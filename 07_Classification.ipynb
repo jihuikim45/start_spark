{
 "cells": [
  {
   "cell_type": "code",
   "execution_count": 2,
   "id": "a0a14d72-4fb0-49bc-bdfe-9f97a18c5ce3",
   "metadata": {},
   "outputs": [
    {
     "data": {
      "text/html": [
       "\n",
       "            <div>\n",
       "                <p><b>SparkSession - in-memory</b></p>\n",
       "                \n",
       "        <div>\n",
       "            <p><b>SparkContext</b></p>\n",
       "\n",
       "            <p><a href=\"http://1f27e566f506:4040\">Spark UI</a></p>\n",
       "\n",
       "            <dl>\n",
       "              <dt>Version</dt>\n",
       "                <dd><code>v3.5.0</code></dd>\n",
       "              <dt>Master</dt>\n",
       "                <dd><code>local[*]</code></dd>\n",
       "              <dt>AppName</dt>\n",
       "                <dd><code>classificationExample1</code></dd>\n",
       "            </dl>\n",
       "        </div>\n",
       "        \n",
       "            </div>\n",
       "        "
      ],
      "text/plain": [
       "<pyspark.sql.session.SparkSession at 0x7f7240738990>"
      ]
     },
     "execution_count": 2,
     "metadata": {},
     "output_type": "execute_result"
    }
   ],
   "source": [
    "from pyspark.sql import SparkSession\n",
    "from pyspark.ml.classification import LogisticRegression\n",
    "from pyspark.ml.evaluation import BinaryClassificationEvaluator\n",
    "\n",
    "#Initialize Spark Session\n",
    "spark = SparkSession.builder.appName(\"classificationExample1\").getOrCreate()\n",
    "spark"
   ]
  },
  {
   "cell_type": "code",
   "execution_count": 5,
   "id": "21ad6698-133a-45c8-a8c4-526665f420dc",
   "metadata": {},
   "outputs": [
    {
     "name": "stdout",
     "output_type": "stream",
     "text": [
      "+-----------+--------+------+--------------------+------+----+-----+-----+----------------+-------+-----+--------+\n",
      "|PassengerId|Survived|Pclass|                Name|Gender| Age|SibSp|Parch|          Ticket|   Fare|Cabin|Embarked|\n",
      "+-----------+--------+------+--------------------+------+----+-----+-----+----------------+-------+-----+--------+\n",
      "|          1|       0|     3|Braund, Mr. Owen ...|  male|22.0|    1|    0|       A/5 21171|   7.25| NULL|       S|\n",
      "|          2|       1|     1|Cumings, Mrs. Joh...|female|38.0|    1|    0|        PC 17599|71.2833|  C85|       C|\n",
      "|          3|       1|     3|Heikkinen, Miss. ...|female|26.0|    0|    0|STON/O2. 3101282|  7.925| NULL|       S|\n",
      "|          4|       1|     1|Futrelle, Mrs. Ja...|female|35.0|    1|    0|          113803|   53.1| C123|       S|\n",
      "|          5|       0|     3|Allen, Mr. Willia...|  male|35.0|    0|    0|          373450|   8.05| NULL|       S|\n",
      "|          6|       0|     3|    Moran, Mr. James|  male|NULL|    0|    0|          330877| 8.4583| NULL|       Q|\n",
      "|          7|       0|     1|McCarthy, Mr. Tim...|  male|54.0|    0|    0|           17463|51.8625|  E46|       S|\n",
      "|          8|       0|     3|Palsson, Master. ...|  male| 2.0|    3|    1|          349909| 21.075| NULL|       S|\n",
      "|          9|       1|     3|Johnson, Mrs. Osc...|female|27.0|    0|    2|          347742|11.1333| NULL|       S|\n",
      "|         10|       1|     2|Nasser, Mrs. Nich...|female|14.0|    1|    0|          237736|30.0708| NULL|       C|\n",
      "+-----------+--------+------+--------------------+------+----+-----+-----+----------------+-------+-----+--------+\n",
      "only showing top 10 rows\n",
      "\n"
     ]
    }
   ],
   "source": [
    "#csv 파일 로드\n",
    "data = spark.read.csv(\"learning_spark_data/titanic.csv\", header=True, inferSchema=True)\n",
    "\n",
    "# 데이터 확인\n",
    "data.show(10)"
   ]
  },
  {
   "cell_type": "code",
   "execution_count": 6,
   "id": "43a44de0-bdc5-4c05-a79c-5401f8aee2f6",
   "metadata": {},
   "outputs": [
    {
     "name": "stdout",
     "output_type": "stream",
     "text": [
      "+-----------+--------+------+----+------+---+-----+-----+------+----+-----+--------+\n",
      "|PassengerId|Survived|Pclass|Name|Gender|Age|SibSp|Parch|Ticket|Fare|Cabin|Embarked|\n",
      "+-----------+--------+------+----+------+---+-----+-----+------+----+-----+--------+\n",
      "|          0|       0|     0|   0|     0|177|    0|    0|     0|   0|  687|       2|\n",
      "+-----------+--------+------+----+------+---+-----+-----+------+----+-----+--------+\n",
      "\n"
     ]
    }
   ],
   "source": [
    "from pyspark.sql.functions import col, sum, when, isnan\n",
    "\n",
    "\n",
    "# 결측치 처리\n",
    "null_counts = data.select(\n",
    "                    [\n",
    "                        sum( when(col(c).isNull() | isnan(c),1).otherwise(0) ).alias(c)\n",
    "                        for c in data.columns\n",
    "                    ]\n",
    "                )\n",
    "null_counts.show()"
   ]
  },
  {
   "cell_type": "code",
   "execution_count": 9,
   "id": "4c053235-2228-47e2-8765-bba73f4c7abf",
   "metadata": {},
   "outputs": [
    {
     "name": "stdout",
     "output_type": "stream",
     "text": [
      "+--------+------+------+----+-----+-----+\n",
      "|Survived|Pclass|Gender| Age|SibSp|Parch|\n",
      "+--------+------+------+----+-----+-----+\n",
      "|       0|     3|  male|22.0|    1|    0|\n",
      "|       1|     1|female|38.0|    1|    0|\n",
      "|       1|     3|female|26.0|    0|    0|\n",
      "|       1|     1|female|35.0|    1|    0|\n",
      "|       0|     3|  male|35.0|    0|    0|\n",
      "|       0|     3|  male|NULL|    0|    0|\n",
      "|       0|     1|  male|54.0|    0|    0|\n",
      "|       0|     3|  male| 2.0|    3|    1|\n",
      "|       1|     3|female|27.0|    0|    2|\n",
      "|       1|     2|female|14.0|    1|    0|\n",
      "|       1|     3|female| 4.0|    1|    1|\n",
      "|       1|     1|female|58.0|    0|    0|\n",
      "|       0|     3|  male|20.0|    0|    0|\n",
      "|       0|     3|  male|39.0|    1|    5|\n",
      "|       0|     3|female|14.0|    0|    0|\n",
      "|       1|     2|female|55.0|    0|    0|\n",
      "|       0|     3|  male| 2.0|    4|    1|\n",
      "|       1|     2|  male|NULL|    0|    0|\n",
      "|       0|     3|female|31.0|    1|    0|\n",
      "|       1|     3|female|NULL|    0|    0|\n",
      "+--------+------+------+----+-----+-----+\n",
      "only showing top 20 rows\n",
      "\n"
     ]
    }
   ],
   "source": [
    "# feature slection\n",
    "data_1 = data.select('Survived', 'Pclass', 'Gender', 'Age' , 'SibSp', 'Parch')\n",
    "data_1.show()"
   ]
  },
  {
   "cell_type": "code",
   "execution_count": 10,
   "id": "172e1311-3e3d-4a30-ad7c-918342ce0f8e",
   "metadata": {},
   "outputs": [
    {
     "data": {
      "text/plain": [
       "29.69911764705882"
      ]
     },
     "execution_count": 10,
     "metadata": {},
     "output_type": "execute_result"
    }
   ],
   "source": [
    "mean_age = data_1.select('Age').agg({\n",
    "                    \"Age\":\"mean\"\n",
    "                }).collect()[0][0]\n",
    "mean_age"
   ]
  },
  {
   "cell_type": "code",
   "execution_count": 12,
   "id": "20e73f2c-4a75-4f36-a26f-f88d6af5a782",
   "metadata": {},
   "outputs": [
    {
     "name": "stdout",
     "output_type": "stream",
     "text": [
      "+--------+------+------+-----------------+-----+-----+\n",
      "|Survived|Pclass|Gender|              Age|SibSp|Parch|\n",
      "+--------+------+------+-----------------+-----+-----+\n",
      "|       0|     3|  male|             22.0|    1|    0|\n",
      "|       1|     1|female|             38.0|    1|    0|\n",
      "|       1|     3|female|             26.0|    0|    0|\n",
      "|       1|     1|female|             35.0|    1|    0|\n",
      "|       0|     3|  male|             35.0|    0|    0|\n",
      "|       0|     3|  male|29.69911764705882|    0|    0|\n",
      "|       0|     1|  male|             54.0|    0|    0|\n",
      "|       0|     3|  male|              2.0|    3|    1|\n",
      "|       1|     3|female|             27.0|    0|    2|\n",
      "|       1|     2|female|             14.0|    1|    0|\n",
      "+--------+------+------+-----------------+-----+-----+\n",
      "only showing top 10 rows\n",
      "\n"
     ]
    }
   ],
   "source": [
    "data_1 = data_1.fillna({'Age': mean_age})\n",
    "data_1.show(10)"
   ]
  },
  {
   "cell_type": "code",
   "execution_count": 14,
   "id": "4d518304-f908-4c2b-a8de-4d434292cf44",
   "metadata": {},
   "outputs": [],
   "source": [
    "from pyspark.sql.functions import col, when\n",
    "from pyspark.ml.feature import StringIndexer, VectorAssembler"
   ]
  },
  {
   "cell_type": "code",
   "execution_count": 15,
   "id": "4a55b763-bcab-4c65-afba-e072a270ebca",
   "metadata": {},
   "outputs": [
    {
     "name": "stdout",
     "output_type": "stream",
     "text": [
      "+--------+------+------+----+-----+-----+----------+\n",
      "|Survived|Pclass|Gender| Age|SibSp|Parch|SexIndexer|\n",
      "+--------+------+------+----+-----+-----+----------+\n",
      "|       0|     3|  male|22.0|    1|    0|       0.0|\n",
      "|       1|     1|female|38.0|    1|    0|       1.0|\n",
      "|       1|     3|female|26.0|    0|    0|       1.0|\n",
      "|       1|     1|female|35.0|    1|    0|       1.0|\n",
      "|       0|     3|  male|35.0|    0|    0|       0.0|\n",
      "+--------+------+------+----+-----+-----+----------+\n",
      "only showing top 5 rows\n",
      "\n"
     ]
    }
   ],
   "source": [
    "# 데이터 인코딩 stringIndexer\n",
    "indexer = StringIndexer(inputCol='Gender', outputCol='SexIndexer')\n",
    "data_1 = indexer.fit(data_1).transform(data_1)\n",
    "data_1.show(5)"
   ]
  },
  {
   "cell_type": "code",
   "execution_count": 18,
   "id": "96e5021c-27f1-4ad2-bda2-aaddf7850376",
   "metadata": {},
   "outputs": [
    {
     "name": "stdout",
     "output_type": "stream",
     "text": [
      "+--------------------+--------+\n",
      "|            features|Survived|\n",
      "+--------------------+--------+\n",
      "|[3.0,0.0,22.0,1.0...|       0|\n",
      "|[1.0,1.0,38.0,1.0...|       1|\n",
      "|[3.0,1.0,26.0,0.0...|       1|\n",
      "|[1.0,1.0,35.0,1.0...|       1|\n",
      "|(5,[0,2],[3.0,35.0])|       0|\n",
      "+--------------------+--------+\n",
      "only showing top 5 rows\n",
      "\n"
     ]
    }
   ],
   "source": [
    "#FeatureVector 생성\n",
    "assembler = VectorAssembler(\n",
    "    inputCols=['Pclass', 'SexIndexer', 'Age' , 'SibSp', 'Parch'],  # ✅ inputCols 복수형으로 수정\n",
    "    outputCol='features'\n",
    ")\n",
    "data_1 = assembler.transform(data_1)\n",
    "data_1.select('features', 'Survived').show(5)"
   ]
  },
  {
   "cell_type": "code",
   "execution_count": 19,
   "id": "d18ba2f9-5f80-4328-87e3-083fcd3e262d",
   "metadata": {},
   "outputs": [
    {
     "name": "stdout",
     "output_type": "stream",
     "text": [
      "+--------+------+------+----+-----+-----+----------+--------------------+\n",
      "|Survived|Pclass|Gender| Age|SibSp|Parch|SexIndexer|            features|\n",
      "+--------+------+------+----+-----+-----+----------+--------------------+\n",
      "|       0|     1|female| 2.0|    1|    2|       1.0|[1.0,1.0,2.0,1.0,...|\n",
      "|       0|     1|female|25.0|    1|    2|       1.0|[1.0,1.0,25.0,1.0...|\n",
      "|       0|     1|  male|18.0|    1|    0|       0.0|[1.0,0.0,18.0,1.0...|\n",
      "|       0|     1|  male|19.0|    1|    0|       0.0|[1.0,0.0,19.0,1.0...|\n",
      "|       0|     1|  male|19.0|    3|    2|       0.0|[1.0,0.0,19.0,3.0...|\n",
      "+--------+------+------+----+-----+-----+----------+--------------------+\n",
      "only showing top 5 rows\n",
      "\n",
      "+--------+------+------+-----------------+-----+-----+----------+--------------------+\n",
      "|Survived|Pclass|Gender|              Age|SibSp|Parch|SexIndexer|            features|\n",
      "+--------+------+------+-----------------+-----+-----+----------+--------------------+\n",
      "|       0|     1|female|             50.0|    0|    0|       1.0|[1.0,1.0,50.0,0.0...|\n",
      "|       0|     1|  male|             21.0|    0|    1|       0.0|[1.0,0.0,21.0,0.0...|\n",
      "|       0|     1|  male|             24.0|    0|    0|       0.0|(5,[0,2],[1.0,24.0])|\n",
      "|       0|     1|  male|             29.0|    0|    0|       0.0|(5,[0,2],[1.0,29.0])|\n",
      "|       0|     1|  male|29.69911764705882|    0|    0|       0.0|(5,[0,2],[1.0,29....|\n",
      "+--------+------+------+-----------------+-----+-----+----------+--------------------+\n",
      "only showing top 5 rows\n",
      "\n"
     ]
    },
    {
     "data": {
      "text/plain": [
       "(None, None)"
      ]
     },
     "execution_count": 19,
     "metadata": {},
     "output_type": "execute_result"
    }
   ],
   "source": [
    "#데이터셋 분할\n",
    "train_data, test_data = data_1.randomSplit([0.8,0.2], seed=42)\n",
    "train_data.show(5), test_data.show(5)"
   ]
  },
  {
   "cell_type": "code",
   "execution_count": 21,
   "id": "86fcb544-d5df-4a0f-a1a5-fd266794a8ed",
   "metadata": {},
   "outputs": [
    {
     "name": "stdout",
     "output_type": "stream",
     "text": [
      "+--------------------+--------+----------+\n",
      "|            features|Survived|prediction|\n",
      "+--------------------+--------+----------+\n",
      "|[1.0,1.0,50.0,0.0...|       0|       1.0|\n",
      "|[1.0,0.0,21.0,0.0...|       0|       1.0|\n",
      "|(5,[0,2],[1.0,24.0])|       0|       1.0|\n",
      "|(5,[0,2],[1.0,29.0])|       0|       1.0|\n",
      "|(5,[0,2],[1.0,29....|       0|       1.0|\n",
      "+--------------------+--------+----------+\n",
      "only showing top 5 rows\n",
      "\n"
     ]
    }
   ],
   "source": [
    "#모델생성\n",
    "from pyspark.ml.classification import LogisticRegression\n",
    "lr = LogisticRegression(featuresCol='features', labelCol='Survived')\n",
    "lr_model = lr.fit(train_data)\n",
    "predic = lr_model.transform(test_data)\n",
    "predic.select('features', 'Survived', 'prediction').show(5)"
   ]
  },
  {
   "cell_type": "code",
   "execution_count": 22,
   "id": "86ae3a1f-c935-4666-bf30-293335cfc31a",
   "metadata": {},
   "outputs": [
    {
     "name": "stdout",
     "output_type": "stream",
     "text": [
      "+--------+----------+-----+\n",
      "|Survived|prediction|count|\n",
      "+--------+----------+-----+\n",
      "|       1|       0.0|   16|\n",
      "|       0|       0.0|   72|\n",
      "|       1|       1.0|   45|\n",
      "|       0|       1.0|   12|\n",
      "+--------+----------+-----+\n",
      "\n"
     ]
    }
   ],
   "source": [
    "predic.select('Survived', 'prediction').groupBy('Survived', 'prediction').count().show()"
   ]
  },
  {
   "cell_type": "code",
   "execution_count": 25,
   "id": "cab9c347-a6bb-46cf-9c38-cce343d16297",
   "metadata": {},
   "outputs": [
    {
     "data": {
      "text/plain": [
       "28"
      ]
     },
     "execution_count": 25,
     "metadata": {},
     "output_type": "execute_result"
    }
   ],
   "source": [
    "from pyspark.sql.functions import expr\n",
    "comp = predic.withColumn('correct', expr('case when Survived = prediction then 1 else 0 end'))\n",
    "comp.where('correct=0').count()"
   ]
  },
  {
   "cell_type": "code",
   "execution_count": 26,
   "id": "6b60d597-d6ec-4b3d-8c48-1ced7dbc489e",
   "metadata": {},
   "outputs": [
    {
     "name": "stdout",
     "output_type": "stream",
     "text": [
      "+--------+------+------+-----------------+-----+-----+----------+--------------------+--------------------+--------------------+----------+\n",
      "|Survived|Pclass|Gender|              Age|SibSp|Parch|SexIndexer|            features|       rawPrediction|         probability|prediction|\n",
      "+--------+------+------+-----------------+-----+-----+----------+--------------------+--------------------+--------------------+----------+\n",
      "|       0|     1|female|             50.0|    0|    0|       1.0|[1.0,1.0,50.0,0.0...|[-2.0385122150888...|[0.11521831457915...|       1.0|\n",
      "|       0|     1|  male|             21.0|    0|    1|       0.0|[1.0,0.0,21.0,0.0...|[-0.5036398784530...|[0.37668566590019...|       1.0|\n",
      "|       0|     1|  male|             24.0|    0|    0|       0.0|(5,[0,2],[1.0,24.0])|[-0.4596486544477...|[0.38706917610046...|       1.0|\n",
      "|       0|     1|  male|             29.0|    0|    0|       0.0|(5,[0,2],[1.0,29.0])|[-0.2478203388236...|[0.43836006052287...|       1.0|\n",
      "|       0|     1|  male|29.69911764705882|    0|    0|       0.0|(5,[0,2],[1.0,29....|[-0.2182017561037...|[0.44566497339790...|       1.0|\n",
      "|       0|     1|  male|29.69911764705882|    0|    0|       0.0|(5,[0,2],[1.0,29....|[-0.2182017561037...|[0.44566497339790...|       1.0|\n",
      "|       0|     1|  male|29.69911764705882|    0|    0|       0.0|(5,[0,2],[1.0,29....|[-0.2182017561037...|[0.44566497339790...|       1.0|\n",
      "|       0|     3|female|              9.0|    1|    1|       1.0|[3.0,1.0,9.0,1.0,...|[-0.8427408246594...|[0.30095784883550...|       1.0|\n",
      "|       0|     3|female|             14.0|    0|    0|       1.0|[3.0,1.0,14.0,0.0...|[-1.0892085561487...|[0.25176734172575...|       1.0|\n",
      "|       0|     3|female|             22.0|    0|    0|       1.0|[3.0,1.0,22.0,0.0...|[-0.7502832511502...|[0.32075958494964...|       1.0|\n",
      "|       0|     3|female|             28.0|    1|    1|       1.0|[3.0,1.0,28.0,1.0...|[-0.0377932252879...|[0.49055281812401...|       1.0|\n",
      "|       0|     3|female|29.69911764705882|    0|    0|       1.0|[3.0,1.0,29.69911...|[-0.4241050265566...|[0.39553487181692...|       1.0|\n",
      "|       1|     1|  male|             40.0|    0|    0|       0.0|(5,[0,2],[1.0,40.0])|[0.21820195554925...|[0.55433507587464...|       0.0|\n",
      "|       1|     1|  male|             42.0|    0|    0|       0.0|(5,[0,2],[1.0,42.0])|[0.30293328179888...|[0.57515942486922...|       0.0|\n",
      "|       1|     1|  male|             45.0|    0|    0|       0.0|(5,[0,2],[1.0,45.0])|[0.43003027117332...|[0.60588089688527...|       0.0|\n",
      "|       1|     2|  male|              2.0|    1|    1|       0.0|[2.0,0.0,2.0,1.0,...|[0.30383656963639...|[0.57538012921181...|       0.0|\n",
      "|       1|     3|female|29.69911764705882|    2|    0|       1.0|[3.0,1.0,29.69911...|[0.32627553693171...|[0.58085288261610...|       0.0|\n",
      "|       1|     3|female|             33.0|    3|    0|       1.0|[3.0,1.0,33.0,3.0...|[0.84130988845523...|[0.69874102191099...|       0.0|\n",
      "|       1|     3|female|             38.0|    1|    5|       1.0|[3.0,1.0,38.0,1.0...|[0.71828646743698...|[0.67222957397196...|       0.0|\n",
      "|       1|     3|female|             63.0|    0|    0|       1.0|[3.0,1.0,63.0,0.0...|[0.98670893696716...|[0.72843738589890...|       0.0|\n",
      "+--------+------+------+-----------------+-----+-----+----------+--------------------+--------------------+--------------------+----------+\n",
      "only showing top 20 rows\n",
      "\n"
     ]
    }
   ],
   "source": [
    "# 틀린 데이터만 필터링\n",
    "predic.filter( col('Survived') != col('prediction')).show()"
   ]
  },
  {
   "cell_type": "code",
   "execution_count": 27,
   "id": "6ebc0919-d993-4a55-965b-286351ac0807",
   "metadata": {},
   "outputs": [
    {
     "data": {
      "text/plain": [
       "0.8068965517241379"
      ]
     },
     "execution_count": 27,
     "metadata": {},
     "output_type": "execute_result"
    }
   ],
   "source": [
    "# 정확도 평가\n",
    "comp.selectExpr('avg(correct) as accuracy').collect()[0]['accuracy']"
   ]
  },
  {
   "cell_type": "code",
   "execution_count": 30,
   "id": "42564555-153c-4be2-ac05-0c79c9a3c41c",
   "metadata": {},
   "outputs": [
    {
     "data": {
      "text/plain": [
       "0.8634855581576892"
      ]
     },
     "execution_count": 30,
     "metadata": {},
     "output_type": "execute_result"
    }
   ],
   "source": [
    "from pyspark.ml.evaluation import BinaryClassificationEvaluator\n",
    "\n",
    "eval = BinaryClassificationEvaluator(labelCol='Survived',\n",
    "                             rawPredictionCol='rawPrediction',\n",
    "                             metricName='areaUnderROC')\n",
    "\n",
    "auc = eval.evaluate(predic)\n",
    "auc"
   ]
  },
  {
   "cell_type": "code",
   "execution_count": 31,
   "id": "a87ee917-1e2f-4ffe-9b9e-84a23e929278",
   "metadata": {},
   "outputs": [],
   "source": [
    "spark.stop()"
   ]
  },
  {
   "cell_type": "code",
   "execution_count": null,
   "id": "6ac73d5c-922a-41b2-8a76-78e217c5e85f",
   "metadata": {},
   "outputs": [],
   "source": [
    "AUROC -> X축 FPR, y축 TPR의 곡선 아래면적, 1에 가까울수록 좋은 모델"
   ]
  },
  {
   "cell_type": "code",
   "execution_count": null,
   "id": "3a504a18-43e8-47f4-8f7f-54476876f185",
   "metadata": {},
   "outputs": [],
   "source": []
  },
  {
   "cell_type": "markdown",
   "id": "8e891699-449e-4d4e-9d38-18ba5ff8aaeb",
   "metadata": {},
   "source": [
    "# libsvm 파일 형식의 처리\n",
    "- 텍스트파일 형식, 희소데이터용 압축 파일 (메모리저장, 처리속도개선 - 머신러닝에서 활용되는 형식)   \n",
    "- 레이블 행:값 행:값"
   ]
  },
  {
   "cell_type": "code",
   "execution_count": 32,
   "id": "685761a5-6129-47a9-a34f-0fcc74a4e6ea",
   "metadata": {},
   "outputs": [
    {
     "data": {
      "text/html": [
       "\n",
       "            <div>\n",
       "                <p><b>SparkSession - in-memory</b></p>\n",
       "                \n",
       "        <div>\n",
       "            <p><b>SparkContext</b></p>\n",
       "\n",
       "            <p><a href=\"http://1f27e566f506:4040\">Spark UI</a></p>\n",
       "\n",
       "            <dl>\n",
       "              <dt>Version</dt>\n",
       "                <dd><code>v3.5.0</code></dd>\n",
       "              <dt>Master</dt>\n",
       "                <dd><code>local[*]</code></dd>\n",
       "              <dt>AppName</dt>\n",
       "                <dd><code>classificationExample2</code></dd>\n",
       "            </dl>\n",
       "        </div>\n",
       "        \n",
       "            </div>\n",
       "        "
      ],
      "text/plain": [
       "<pyspark.sql.session.SparkSession at 0x7f721e5a4750>"
      ]
     },
     "execution_count": 32,
     "metadata": {},
     "output_type": "execute_result"
    }
   ],
   "source": [
    "from pyspark.sql import SparkSession\n",
    "\n",
    "#Initialize Spark Session\n",
    "spark = SparkSession.builder.appName(\"classificationExample2\").getOrCreate()\n",
    "spark"
   ]
  },
  {
   "cell_type": "code",
   "execution_count": 33,
   "id": "ad5edb6b-0c33-4a53-b87e-091a19079ec5",
   "metadata": {},
   "outputs": [
    {
     "data": {
      "text/plain": [
       "100"
      ]
     },
     "execution_count": 33,
     "metadata": {},
     "output_type": "execute_result"
    }
   ],
   "source": [
    "data2 = spark.read.format('libsvm').load('learning_spark_data/sample_libsvm_data.txt')\n",
    "data2.count()"
   ]
  },
  {
   "cell_type": "code",
   "execution_count": 35,
   "id": "f17760aa-e666-4d2b-899c-e1c0dd3a7c19",
   "metadata": {},
   "outputs": [
    {
     "name": "stdout",
     "output_type": "stream",
     "text": [
      "+-----+--------------------+\n",
      "|label|            features|\n",
      "+-----+--------------------+\n",
      "|  0.0|(692,[127,128,129...|\n",
      "|  1.0|(692,[158,159,160...|\n",
      "|  1.0|(692,[124,125,126...|\n",
      "+-----+--------------------+\n",
      "only showing top 3 rows\n",
      "\n"
     ]
    }
   ],
   "source": [
    "data2.show(3)"
   ]
  },
  {
   "cell_type": "code",
   "execution_count": 36,
   "id": "76af6b2c-910b-4c20-9c73-ccb44ff20f9a",
   "metadata": {},
   "outputs": [],
   "source": [
    "train_data, test_data = data2.randomSplit([0.7,0.3], seed=12)"
   ]
  },
  {
   "cell_type": "code",
   "execution_count": 37,
   "id": "a2b58b12-5bd4-43b8-b437-42fd5be7a647",
   "metadata": {},
   "outputs": [
    {
     "name": "stdout",
     "output_type": "stream",
     "text": [
      "+-----+--------------------+--------------------+--------------------+----------+\n",
      "|label|            features|       rawPrediction|         probability|prediction|\n",
      "+-----+--------------------+--------------------+--------------------+----------+\n",
      "|  0.0|(692,[98,99,100,1...|[0.95414441393043...|[0.72194788886091...|       0.0|\n",
      "|  0.0|(692,[100,101,102...|[0.48568919283978...|[0.61909039185191...|       0.0|\n",
      "|  0.0|(692,[123,124,125...|[1.00961478127974...|[0.73294475454830...|       0.0|\n",
      "|  0.0|(692,[126,127,128...|[0.90293696106823...|[0.71155267489794...|       0.0|\n",
      "|  0.0|(692,[126,127,128...|[0.75830339388632...|[0.68098526895593...|       0.0|\n",
      "|  0.0|(692,[127,128,129...|[0.97194839391749...|[0.72550768363690...|       0.0|\n",
      "|  0.0|(692,[127,128,129...|[0.88414239930651...|[0.70767989197633...|       0.0|\n",
      "|  0.0|(692,[127,128,129...|[0.96585465524705...|[0.72429247205628...|       0.0|\n",
      "|  0.0|(692,[128,129,130...|[0.91063904393044...|[0.71313091310478...|       0.0|\n",
      "|  0.0|(692,[152,153,154...|[0.67037454557081...|[0.66158702114842...|       0.0|\n",
      "+-----+--------------------+--------------------+--------------------+----------+\n",
      "only showing top 10 rows\n",
      "\n"
     ]
    }
   ],
   "source": [
    "# 로지스틱회귀\n",
    "\n",
    "lr = LogisticRegression(maxIter=10, regParam=0.3, elasticNetParam=0.8)\n",
    "lrModel = lr.fit(train_data)\n",
    "pred = lrModel.transform(test_data)\n",
    "pred.show(10)"
   ]
  },
  {
   "cell_type": "code",
   "execution_count": 38,
   "id": "70067b10-bb3b-4f6d-adf3-5cb156eeadd2",
   "metadata": {},
   "outputs": [
    {
     "data": {
      "text/plain": [
       "1.0"
      ]
     },
     "execution_count": 38,
     "metadata": {},
     "output_type": "execute_result"
    }
   ],
   "source": [
    "eval = BinaryClassificationEvaluator(metricName='areaUnderROC')\n",
    "auc = eval.evaluate(pred)\n",
    "auc"
   ]
  },
  {
   "cell_type": "code",
   "execution_count": 39,
   "id": "937260ac-afb0-4bbe-9cbb-32d0ddabf052",
   "metadata": {},
   "outputs": [],
   "source": [
    "spark.stop()"
   ]
  },
  {
   "cell_type": "code",
   "execution_count": null,
   "id": "b590e275-058e-45fb-8095-5849119be1dc",
   "metadata": {},
   "outputs": [],
   "source": []
  },
  {
   "cell_type": "code",
   "execution_count": null,
   "id": "83ec58d8-ea1e-43fc-b52d-23a6ddf88781",
   "metadata": {},
   "outputs": [],
   "source": []
  },
  {
   "cell_type": "code",
   "execution_count": null,
   "id": "e96e347e-dc4b-4978-ae83-e6b9bc975151",
   "metadata": {},
   "outputs": [],
   "source": []
  },
  {
   "cell_type": "code",
   "execution_count": null,
   "id": "fed1b6ca-53d4-4fb5-a3d8-dad0d4bf5d86",
   "metadata": {},
   "outputs": [],
   "source": []
  },
  {
   "cell_type": "code",
   "execution_count": null,
   "id": "e56769f1-5fcc-412d-b231-955e44465472",
   "metadata": {},
   "outputs": [],
   "source": []
  },
  {
   "cell_type": "code",
   "execution_count": null,
   "id": "14568f77-79e4-4ce5-a729-c9ca5501fc17",
   "metadata": {},
   "outputs": [],
   "source": []
  },
  {
   "cell_type": "code",
   "execution_count": null,
   "id": "d5307d83-1495-483e-a079-ef714a9bc5e2",
   "metadata": {},
   "outputs": [],
   "source": []
  },
  {
   "cell_type": "code",
   "execution_count": null,
   "id": "732d7025-cea9-4d77-8f48-6d8ff3c2b645",
   "metadata": {},
   "outputs": [],
   "source": []
  },
  {
   "cell_type": "code",
   "execution_count": null,
   "id": "6368ca05-4439-4252-831f-226061c6388a",
   "metadata": {},
   "outputs": [],
   "source": []
  },
  {
   "cell_type": "code",
   "execution_count": null,
   "id": "ddcb0b2d-3acf-4983-9455-16afc3388aea",
   "metadata": {},
   "outputs": [],
   "source": []
  },
  {
   "cell_type": "code",
   "execution_count": null,
   "id": "c0c17042-77c1-470c-95c2-3bb4bf5a7d15",
   "metadata": {},
   "outputs": [],
   "source": []
  },
  {
   "cell_type": "code",
   "execution_count": null,
   "id": "89a9951d-99a9-4033-a71d-8e51cba7097a",
   "metadata": {},
   "outputs": [],
   "source": []
  },
  {
   "cell_type": "code",
   "execution_count": null,
   "id": "ae119a5a-caaa-4b3a-bd72-16166f1a3bc3",
   "metadata": {},
   "outputs": [],
   "source": []
  },
  {
   "cell_type": "code",
   "execution_count": null,
   "id": "80a5dc20-292d-4c13-80d7-3f6efb4e890b",
   "metadata": {},
   "outputs": [],
   "source": []
  },
  {
   "cell_type": "code",
   "execution_count": null,
   "id": "20ab9858-6eb9-4526-8dca-df3a260f6cae",
   "metadata": {},
   "outputs": [],
   "source": []
  },
  {
   "cell_type": "code",
   "execution_count": null,
   "id": "cae29144-47c9-47ff-8626-eb411044d1c0",
   "metadata": {},
   "outputs": [],
   "source": []
  },
  {
   "cell_type": "code",
   "execution_count": null,
   "id": "9761a165-50eb-4c34-b360-074cb64032b7",
   "metadata": {},
   "outputs": [],
   "source": []
  },
  {
   "cell_type": "code",
   "execution_count": null,
   "id": "c97776c3-a56c-4f28-9488-b6913cb7b901",
   "metadata": {},
   "outputs": [],
   "source": []
  },
  {
   "cell_type": "code",
   "execution_count": null,
   "id": "b2d1910e-3b0f-4abb-b08e-2a0f09347e8e",
   "metadata": {},
   "outputs": [],
   "source": []
  },
  {
   "cell_type": "code",
   "execution_count": null,
   "id": "bdb4635b-f7f3-4ad2-b7af-5b7a4a462e77",
   "metadata": {},
   "outputs": [],
   "source": []
  },
  {
   "cell_type": "code",
   "execution_count": null,
   "id": "c88bd109-d6e8-4d61-9653-01d363143622",
   "metadata": {},
   "outputs": [],
   "source": []
  },
  {
   "cell_type": "code",
   "execution_count": null,
   "id": "b6785922-f7b1-499e-94ee-fc9c75bb7b2d",
   "metadata": {},
   "outputs": [],
   "source": []
  },
  {
   "cell_type": "code",
   "execution_count": null,
   "id": "51d62557-6788-4cba-8f42-07c8a9fd13eb",
   "metadata": {},
   "outputs": [],
   "source": []
  },
  {
   "cell_type": "code",
   "execution_count": null,
   "id": "65fb978f-413d-4d62-af08-2759d3fc74e5",
   "metadata": {},
   "outputs": [],
   "source": []
  },
  {
   "cell_type": "code",
   "execution_count": null,
   "id": "f0e31503-1258-4125-9211-6c347d06c305",
   "metadata": {},
   "outputs": [],
   "source": []
  },
  {
   "cell_type": "code",
   "execution_count": null,
   "id": "06ad6edb-34bd-4c61-9240-774e585720f0",
   "metadata": {},
   "outputs": [],
   "source": []
  },
  {
   "cell_type": "code",
   "execution_count": null,
   "id": "d2f4a706-33ff-4768-806f-07296d0089ba",
   "metadata": {},
   "outputs": [],
   "source": []
  },
  {
   "cell_type": "code",
   "execution_count": null,
   "id": "21344b2d-9376-45e1-b6fa-8b45222cd4ed",
   "metadata": {},
   "outputs": [],
   "source": []
  },
  {
   "cell_type": "code",
   "execution_count": null,
   "id": "3138cffb-0b4f-4d69-ba21-71bdaad99524",
   "metadata": {},
   "outputs": [],
   "source": []
  }
 ],
 "metadata": {
  "kernelspec": {
   "display_name": "Python 3 (ipykernel)",
   "language": "python",
   "name": "python3"
  },
  "language_info": {
   "codemirror_mode": {
    "name": "ipython",
    "version": 3
   },
   "file_extension": ".py",
   "mimetype": "text/x-python",
   "name": "python",
   "nbconvert_exporter": "python",
   "pygments_lexer": "ipython3",
   "version": "3.11.6"
  }
 },
 "nbformat": 4,
 "nbformat_minor": 5
}
