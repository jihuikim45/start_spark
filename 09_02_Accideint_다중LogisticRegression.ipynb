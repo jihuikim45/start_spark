{
 "cells": [
  {
   "cell_type": "code",
   "execution_count": 2,
   "id": "1bd5a329-a1dd-4fae-ab88-5f4a225c15ff",
   "metadata": {},
   "outputs": [],
   "source": [
    "# 1. Spark 세션 재생성\n",
    "from pyspark.sql import SparkSession\n",
    "\n",
    "spark = SparkSession.builder \\\n",
    "    .appName(\"accident-severity-prediction\") \\\n",
    "    .config(\"spark.driver.memory\", \"8g\") \\\n",
    "    .getOrCreate()"
   ]
  },
  {
   "cell_type": "code",
   "execution_count": 3,
   "id": "6b5deeb5-2dfb-45e2-95c3-55341e024e7e",
   "metadata": {},
   "outputs": [],
   "source": [
    "# 2. accident_df 다시 로드\n",
    "import os\n",
    "cwd = os.getcwd()\n",
    "a_data_path = os.path.join(cwd, 'learning_spark_data', 'accident' , 'Accident_Information.csv')\n",
    "a_file_path = f\"file:///{a_data_path.replace(os.sep, '/')}\"\n",
    "accident_df = spark.read.csv(a_file_path, inferSchema=True, header=True)"
   ]
  },
  {
   "cell_type": "code",
   "execution_count": 12,
   "id": "e790ce58-bd1e-4839-ac85-c2a64427edba",
   "metadata": {},
   "outputs": [
    {
     "name": "stdout",
     "output_type": "stream",
     "text": [
      "['Slight', 'Serious', 'Fatal']\n",
      "+-----------------+-----+\n",
      "|Accident_Severity|label|\n",
      "+-----------------+-----+\n",
      "|          Serious|  1.0|\n",
      "|           Slight|  0.0|\n",
      "|           Slight|  0.0|\n",
      "|           Slight|  0.0|\n",
      "|           Slight|  0.0|\n",
      "|           Slight|  0.0|\n",
      "|           Slight|  0.0|\n",
      "|           Slight|  0.0|\n",
      "|           Slight|  0.0|\n",
      "|           Slight|  0.0|\n",
      "+-----------------+-----+\n",
      "only showing top 10 rows\n",
      "\n"
     ]
    }
   ],
   "source": [
    "# 불러오기\n",
    "accident_df = spark.read.csv(a_file_path, inferSchema=True, header=True)\n",
    "\n",
    "# StringIndexer로 fit 및 transform\n",
    "from pyspark.ml.feature import StringIndexer\n",
    "\n",
    "severity_indexer = StringIndexer(inputCol=\"Accident_Severity\", outputCol=\"label\")\n",
    "severity_indexer_model = severity_indexer.fit(accident_df)\n",
    "\n",
    "print(severity_indexer_model.labels)  # 레이블 순서 확인용\n",
    "\n",
    "accident_df = severity_indexer_model.transform(accident_df)\n",
    "accident_df.select(\"Accident_Severity\", \"label\").show(10)\n"
   ]
  },
  {
   "cell_type": "code",
   "execution_count": 14,
   "id": "ae13c9f3-d76d-432b-974a-089a88c31604",
   "metadata": {
    "collapsed": true,
    "jupyter": {
     "outputs_hidden": true
    }
   },
   "outputs": [
    {
     "name": "stdout",
     "output_type": "stream",
     "text": [
      "root\n",
      " |-- Accident_Index: string (nullable = true)\n",
      " |-- Age_Band_of_Driver: string (nullable = true)\n",
      " |-- Age_of_Vehicle: string (nullable = true)\n",
      " |-- Driver_Home_Area_Type: string (nullable = true)\n",
      " |-- Driver_IMD_Decile: string (nullable = true)\n",
      " |-- Engine_Capacity_.CC.: string (nullable = true)\n",
      " |-- Hit_Object_in_Carriageway: string (nullable = true)\n",
      " |-- Hit_Object_off_Carriageway: string (nullable = true)\n",
      " |-- Journey_Purpose_of_Driver: string (nullable = true)\n",
      " |-- Junction_Location: string (nullable = true)\n",
      " |-- make: string (nullable = true)\n",
      " |-- model: string (nullable = true)\n",
      " |-- Propulsion_Code: string (nullable = true)\n",
      " |-- Sex_of_Driver: string (nullable = true)\n",
      " |-- Skidding_and_Overturning: string (nullable = true)\n",
      " |-- Towing_and_Articulation: string (nullable = true)\n",
      " |-- Vehicle_Leaving_Carriageway: string (nullable = true)\n",
      " |-- Vehicle_Location.Restricted_Lane: string (nullable = true)\n",
      " |-- Vehicle_Manoeuvre: string (nullable = true)\n",
      " |-- Vehicle_Reference: integer (nullable = true)\n",
      " |-- Vehicle_Type: string (nullable = true)\n",
      " |-- Was_Vehicle_Left_Hand_Drive: string (nullable = true)\n",
      " |-- X1st_Point_of_Impact: string (nullable = true)\n",
      " |-- Year: integer (nullable = true)\n",
      "\n"
     ]
    }
   ],
   "source": [
    "# vehicle 불러오기\n",
    "v_data_path = os.path.join(cwd, 'learning_spark_data', 'accident' , 'Vehicle_Information.csv')\n",
    "v_file_path = f\"file:///{v_data_path.replace(os.sep, '/')}\"\n",
    "\n",
    "# 2. CSV 파일 읽기\n",
    "vehicle_df = spark.read.csv(v_file_path, inferSchema=True, header=True)\n",
    "\n",
    "# 3. 스키마 확인 (선택)\n",
    "vehicle_df.printSchema()"
   ]
  },
  {
   "cell_type": "code",
   "execution_count": 19,
   "id": "742db956-4c2c-4cca-b9ab-12dc036304ef",
   "metadata": {},
   "outputs": [],
   "source": [
    "# vehicle_df rename \n",
    "vehicle_df = vehicle_df.withColumnRenamed(\"Engine_Capacity_.CC.\", \"Engine_Capacity\")\n",
    "\n",
    "# accident_df와 vehicle_df 조인 하기\n",
    "df = accident_df.join(vehicle_df, on=\"Accident_Index\", how=\"inner\")\n",
    "\n",
    "# 선택 컬럼만 뽑기\n",
    "selected_cols = [\n",
    "    \"label\",\n",
    "    \"Age_Band_of_Driver\",\n",
    "    \"Sex_of_Driver\",\n",
    "    \"Vehicle_Type\",\n",
    "    \"Journey_Purpose_of_Driver\",\n",
    "    \"Weather_Conditions\",\n",
    "    \"Road_Type\",\n",
    "    \"Day_of_Week\",\n",
    "    \"Light_Conditions\",\n",
    "    \"Urban_or_Rural_Area\",\n",
    "    \"Speed_limit\",\n",
    "    \"Engine_Capacity\"\n",
    "]\n",
    "df = df.select(*selected_cols)\n"
   ]
  },
  {
   "cell_type": "code",
   "execution_count": 20,
   "id": "56cee92d-7839-477b-b394-a5b21b94a4b1",
   "metadata": {
    "collapsed": true,
    "jupyter": {
     "outputs_hidden": true
    }
   },
   "outputs": [
    {
     "name": "stdout",
     "output_type": "stream",
     "text": [
      "+-------------+--------------------------+---------------------+--------------------+---------------------------------+--------------------------+-----------------+-------------------+------------------------+---------------------------+-------------------+-----------------------+\n",
      "|label_missing|Age_Band_of_Driver_missing|Sex_of_Driver_missing|Vehicle_Type_missing|Journey_Purpose_of_Driver_missing|Weather_Conditions_missing|Road_Type_missing|Day_of_Week_missing|Light_Conditions_missing|Urban_or_Rural_Area_missing|Speed_limit_missing|Engine_Capacity_missing|\n",
      "+-------------+--------------------------+---------------------+--------------------+---------------------------------+--------------------------+-----------------+-------------------+------------------------+---------------------------+-------------------+-----------------------+\n",
      "|0.0          |0.0                       |0.0                  |0.0                 |0.0                              |0.0                       |0.0              |0.0                |0.0                     |0.0                        |0.0                |0.0                    |\n",
      "+-------------+--------------------------+---------------------+--------------------+---------------------------------+--------------------------+-----------------+-------------------+------------------------+---------------------------+-------------------+-----------------------+\n",
      "\n"
     ]
    }
   ],
   "source": [
    "# 결측치 비율 확인\n",
    "\n",
    "from pyspark.sql.functions import col, count, when\n",
    "\n",
    "total_count = df.count()\n",
    "\n",
    "missing_df = df.select([\n",
    "    (count(when(col(c).isNull(), c)) / total_count).alias(c + '_missing') for c in df.columns\n",
    "])\n",
    "\n",
    "missing_df.show(truncate=False)\n"
   ]
  },
  {
   "cell_type": "code",
   "execution_count": 23,
   "id": "62c6c373-51fb-40e9-9953-d4e5f0b3db2c",
   "metadata": {},
   "outputs": [
    {
     "name": "stdout",
     "output_type": "stream",
     "text": [
      "📊 Age_Band_of_Driver 값 분포\n",
      "+----------------------------+------+\n",
      "|Age_Band_of_Driver          |count |\n",
      "+----------------------------+------+\n",
      "|26 - 35                     |424291|\n",
      "|36 - 45                     |408773|\n",
      "|46 - 55                     |331194|\n",
      "|21 - 25                     |226532|\n",
      "|56 - 65                     |195291|\n",
      "|16 - 20                     |165772|\n",
      "|Data missing or out of range|162771|\n",
      "|66 - 75                     |87222 |\n",
      "|Over 75                     |51996 |\n",
      "|11 - 15                     |3559  |\n",
      "|6 - 10                      |882   |\n",
      "|0 - 5                       |125   |\n",
      "+----------------------------+------+\n",
      "\n",
      "📊 Sex_of_Driver 값 분포\n",
      "+----------------------------+-------+\n",
      "|Sex_of_Driver               |count  |\n",
      "+----------------------------+-------+\n",
      "|Male                        |1383012|\n",
      "|Female                      |602458 |\n",
      "|Not known                   |72870  |\n",
      "|Data missing or out of range|68     |\n",
      "+----------------------------+-------+\n",
      "\n",
      "📊 Vehicle_Type 값 분포\n",
      "+-------------------------------------+-------+\n",
      "|Vehicle_Type                         |count  |\n",
      "+-------------------------------------+-------+\n",
      "|Car                                  |1528628|\n",
      "|Van / Goods 3.5 tonnes mgw or under  |111573 |\n",
      "|Motorcycle over 500cc                |71472  |\n",
      "|Bus or coach (17 or more pass seats) |69012  |\n",
      "|Motorcycle 125cc and under           |59096  |\n",
      "|Goods 7.5 tonnes mgw and over        |49235  |\n",
      "|Taxi/Private hire car                |43781  |\n",
      "|Pedal cycle                          |38880  |\n",
      "|Motorcycle over 125cc and up to 500cc|20960  |\n",
      "|Motorcycle 50cc and under            |20763  |\n",
      "|Goods over 3.5t. and under 7.5t      |17394  |\n",
      "|Other vehicle                        |12739  |\n",
      "|Minibus (8 - 16 passenger seats)     |5511   |\n",
      "|Agricultural vehicle                 |5501   |\n",
      "|Goods vehicle - unknown weight       |1876   |\n",
      "|Motorcycle - unknown cc              |741    |\n",
      "|Mobility scooter                     |502    |\n",
      "|Data missing or out of range         |400    |\n",
      "|Ridden horse                         |224    |\n",
      "|Electric motorcycle                  |78     |\n",
      "+-------------------------------------+-------+\n",
      "only showing top 20 rows\n",
      "\n",
      "📊 Journey_Purpose_of_Driver 값 분포\n",
      "+----------------------------+------+\n",
      "|Journey_Purpose_of_Driver   |count |\n",
      "+----------------------------+------+\n",
      "|Not known                   |834626|\n",
      "|Other/Not known (2005-10)   |555726|\n",
      "|Journey as part of work     |391713|\n",
      "|Commuting to/from work      |202525|\n",
      "|Other                       |32965 |\n",
      "|Taking pupil to/from school |21792 |\n",
      "|Data missing or out of range|14763 |\n",
      "|Pupil riding to/from school |4298  |\n",
      "+----------------------------+------+\n",
      "\n",
      "📊 Weather_Conditions 값 분포\n",
      "+---------------------+-------+\n",
      "|Weather_Conditions   |count  |\n",
      "+---------------------+-------+\n",
      "|Fine no high winds   |1661250|\n",
      "|Raining no high winds|238560 |\n",
      "|Unknown_Weather      |77991  |\n",
      "|Raining + high winds |27813  |\n",
      "|Fine + high winds    |25433  |\n",
      "|Snowing no high winds|13574  |\n",
      "|Fog or mist          |11152  |\n",
      "|Snowing + high winds |2635   |\n",
      "+---------------------+-------+\n",
      "\n",
      "📊 Road_Type 값 분포\n",
      "+----------------------------+-------+\n",
      "|Road_Type                   |count  |\n",
      "+----------------------------+-------+\n",
      "|Single carriageway          |1494448|\n",
      "|Dual carriageway            |351367 |\n",
      "|Roundabout                  |140962 |\n",
      "|One way street              |36514  |\n",
      "|Slip road                   |24337  |\n",
      "|Unknown                     |10778  |\n",
      "|Data missing or out of range|2      |\n",
      "+----------------------------+-------+\n",
      "\n",
      "📊 Day_of_Week 값 분포\n",
      "+-----------+------+\n",
      "|Day_of_Week|count |\n",
      "+-----------+------+\n",
      "|Friday     |341797|\n",
      "|Thursday   |314431|\n",
      "|Wednesday  |314087|\n",
      "|Tuesday    |311992|\n",
      "|Monday     |294502|\n",
      "|Saturday   |265335|\n",
      "|Sunday     |216264|\n",
      "+-----------+------+\n",
      "\n",
      "📊 Light_Conditions 값 분포\n",
      "+----------------------------+-------+\n",
      "|Light_Conditions            |count  |\n",
      "+----------------------------+-------+\n",
      "|Daylight                    |1544491|\n",
      "|Darkness - lights lit       |381764 |\n",
      "|Darkness - no lighting      |99708  |\n",
      "|Darkness - lighting unknown |22805  |\n",
      "|Darkness - lights unlit     |9615   |\n",
      "|Data missing or out of range|25     |\n",
      "+----------------------------+-------+\n",
      "\n",
      "📊 Urban_or_Rural_Area 값 분포\n",
      "+-------------------+-------+\n",
      "|Urban_or_Rural_Area|count  |\n",
      "+-------------------+-------+\n",
      "|Urban              |1284466|\n",
      "|Rural              |773852 |\n",
      "|Unallocated        |90     |\n",
      "+-------------------+-------+\n",
      "\n",
      "📊 Speed_limit 값 분포\n",
      "+-----------+-------+\n",
      "|Speed_limit|count  |\n",
      "+-----------+-------+\n",
      "|30         |1252377|\n",
      "|60         |317082 |\n",
      "|40         |186988 |\n",
      "|70         |183789 |\n",
      "|50         |84354  |\n",
      "|20         |33727  |\n",
      "|NA         |65     |\n",
      "|10         |13     |\n",
      "|15         |11     |\n",
      "|0          |2      |\n",
      "+-----------+-------+\n",
      "\n"
     ]
    }
   ],
   "source": [
    "# 이상값 점검 컬럼 목록\n",
    "\n",
    "categorical_cols = [\n",
    "    \"Age_Band_of_Driver\",\n",
    "    \"Sex_of_Driver\",\n",
    "    \"Vehicle_Type\",\n",
    "    \"Journey_Purpose_of_Driver\",\n",
    "    \"Weather_Conditions\",\n",
    "    \"Road_Type\",\n",
    "    \"Day_of_Week\",\n",
    "    \"Light_Conditions\",\n",
    "    \"Urban_or_Rural_Area\",\n",
    "    \"Speed_limit\"\n",
    "]\n",
    "\n",
    "from pyspark.sql.functions import col\n",
    "\n",
    "for c in categorical_cols:\n",
    "    print(f\"📊 {c} 값 분포\")\n",
    "    df.groupBy(col(c)).count().orderBy(\"count\", ascending=False).show(truncate=False)\n"
   ]
  },
  {
   "cell_type": "code",
   "execution_count": 24,
   "id": "0b7b5d61-1f69-493d-87d7-3d6b7188e2cb",
   "metadata": {},
   "outputs": [],
   "source": [
    "from pyspark.sql.functions import when, col\n",
    "\n",
    "df = df.withColumn(\n",
    "    \"Age_Band_of_Driver\",\n",
    "    when(col(\"Age_Band_of_Driver\") == \"Data missing or out of range\", \"Unknown_Age\")\n",
    "    .otherwise(col(\"Age_Band_of_Driver\"))\n",
    ").withColumn(\n",
    "    \"Sex_of_Driver\",\n",
    "    when(col(\"Sex_of_Driver\").isin(\"Not known\", \"Data missing or out of range\"), \"Unknown_Sex\")\n",
    "    .otherwise(col(\"Sex_of_Driver\"))\n",
    ").withColumn(\n",
    "    \"Vehicle_Type\",\n",
    "    when(col(\"Vehicle_Type\").rlike(\"(?i)(unknown|other|Data missing)\"), \"Other_Vehicle\")\n",
    "    .otherwise(col(\"Vehicle_Type\"))\n",
    ").withColumn(\n",
    "    \"Journey_Purpose_of_Driver\",\n",
    "    when(col(\"Journey_Purpose_of_Driver\").isin(\"Not known\", \"Other\", \"Other/Not known (2005-10)\", \"Data missing or out of range\"), \"Unknown_Purpose\")\n",
    "    .otherwise(col(\"Journey_Purpose_of_Driver\"))\n",
    ").withColumn(\n",
    "    \"Road_Type\",\n",
    "    when(col(\"Road_Type\").isin(\"Unknown\", \"Data missing or out of range\"), \"Unknown_Road\")\n",
    "    .otherwise(col(\"Road_Type\"))\n",
    ").withColumn(\n",
    "    \"Light_Conditions\",\n",
    "    when(col(\"Light_Conditions\").isin(\"Darkness - lighting unknown\", \"Data missing or out of range\"), \"Unknown_Light\")\n",
    "    .otherwise(col(\"Light_Conditions\"))\n",
    ").withColumn(\n",
    "    \"Urban_or_Rural_Area\",\n",
    "    when(col(\"Urban_or_Rural_Area\") == \"Unallocated\", \"Unknown_Area\")\n",
    "    .otherwise(col(\"Urban_or_Rural_Area\"))\n",
    ").withColumn(\n",
    "    \"Speed_limit\",\n",
    "    when(col(\"Speed_limit\").cast(\"string\").isin(\"NA\", \"0\", \"10\", \"15\"), \"Unknown_Speed\")\n",
    "    .otherwise(col(\"Speed_limit\"))\n",
    ")\n"
   ]
  },
  {
   "cell_type": "code",
   "execution_count": 29,
   "id": "9f7078e1-91c8-43e0-a98a-1bd2269925da",
   "metadata": {},
   "outputs": [],
   "source": [
    "from pyspark.ml.feature import StringIndexer, OneHotEncoder\n",
    "from pyspark.ml import Pipeline\n",
    "\n",
    "categorical_cols = [\n",
    "    \"Age_Band_of_Driver\",\n",
    "    \"Sex_of_Driver\",\n",
    "    \"Vehicle_Type\",\n",
    "    \"Journey_Purpose_of_Driver\",\n",
    "    \"Weather_Conditions\",\n",
    "    \"Road_Type\",\n",
    "    \"Day_of_Week\",\n",
    "    \"Light_Conditions\",\n",
    "    \"Urban_or_Rural_Area\",\n",
    "    \"Speed_limit\"\n",
    "]\n",
    "\n",
    "# 인덱서 + 인코더 정의\n",
    "indexers = [StringIndexer(inputCol=c, outputCol=c + \"_idx\", handleInvalid=\"keep\") for c in categorical_cols]\n",
    "encoders = [OneHotEncoder(inputCol=c + \"_idx\", outputCol=c + \"_vec\") for c in categorical_cols]\n",
    "\n",
    "# 파이프라인 구성\n",
    "pipeline = Pipeline(stages=indexers + encoders)\n",
    "\n"
   ]
  },
  {
   "cell_type": "code",
   "execution_count": 30,
   "id": "6d359069-2dd3-479c-8836-06627bde2b63",
   "metadata": {},
   "outputs": [],
   "source": [
    "from pyspark.sql.functions import col\n",
    "\n",
    "df_encoded = df_encoded.withColumn(\"Engine_Capacity\", col(\"Engine_Capacity\").cast(\"double\"))"
   ]
  },
  {
   "cell_type": "code",
   "execution_count": 35,
   "id": "68c5dbd1-5833-4941-9f2b-988cbb829ffc",
   "metadata": {},
   "outputs": [],
   "source": [
    "# Feature Vector\n",
    "\n",
    "from pyspark.ml.feature import VectorAssembler\n",
    "\n",
    "# 벡터로 묶을 feature 목록 (OneHot 된 것들 + Engine_Capacity)\n",
    "feature_cols = [c + \"_vec\" for c in categorical_cols] + [\"Engine_Capacity\"]\n",
    "\n"
   ]
  },
  {
   "cell_type": "code",
   "execution_count": 36,
   "id": "8f2b43a8-de3f-4a86-9ece-1b44e7943d7e",
   "metadata": {},
   "outputs": [],
   "source": [
    "from pyspark.sql.functions import mean\n",
    "\n",
    "# 평균값 계산\n",
    "mean_val = df_encoded.select(mean(\"Engine_Capacity\")).first()[0]\n",
    "\n",
    "# null → 평균값으로 대체\n",
    "df_encoded = df_encoded.fillna({\"Engine_Capacity\": mean_val})"
   ]
  },
  {
   "cell_type": "code",
   "execution_count": 37,
   "id": "8fe71760-bd28-4551-866b-798d32a9029f",
   "metadata": {},
   "outputs": [
    {
     "name": "stdout",
     "output_type": "stream",
     "text": [
      "+-----+---------------------------------------------------------------------------------------------------+\n",
      "|label|features                                                                                           |\n",
      "+-----+---------------------------------------------------------------------------------------------------+\n",
      "|0.0  |(75,[1,12,18,34,38,47,54,60,64,67,74],[1.0,1.0,1.0,1.0,1.0,1.0,1.0,1.0,1.0,1.0,8268.0])            |\n",
      "|0.0  |(75,[0,12,19,33,38,46,53,60,64,67,74],[1.0,1.0,1.0,1.0,1.0,1.0,1.0,1.0,1.0,1.0,2028.2906977580221])|\n",
      "|0.0  |(75,[1,12,15,33,38,46,53,60,64,67,74],[1.0,1.0,1.0,1.0,1.0,1.0,1.0,1.0,1.0,1.0,4266.0])            |\n",
      "|0.0  |(75,[7,12,15,33,38,47,52,59,64,67,74],[1.0,1.0,1.0,1.0,1.0,1.0,1.0,1.0,1.0,1.0,5343.0])            |\n",
      "|0.0  |(75,[5,13,19,33,38,46,55,60,64,67,74],[1.0,1.0,1.0,1.0,1.0,1.0,1.0,1.0,1.0,1.0,124.0])             |\n",
      "+-----+---------------------------------------------------------------------------------------------------+\n",
      "only showing top 5 rows\n",
      "\n"
     ]
    }
   ],
   "source": [
    "#  feature 벡터와 label\n",
    "assembler = VectorAssembler(inputCols=feature_cols, outputCol=\"features\")\n",
    "final_df = assembler.transform(df_encoded)\n",
    "# 확인\n",
    "final_df.select(\"label\", \"features\").show(5, truncate=False)"
   ]
  },
  {
   "cell_type": "code",
   "execution_count": 38,
   "id": "da173464-8531-45e1-99dd-f072c3db3db3",
   "metadata": {},
   "outputs": [
    {
     "name": "stdout",
     "output_type": "stream",
     "text": [
      "+-----+----------+-------------------------------------------------------------+\n",
      "|label|prediction|probability                                                  |\n",
      "+-----+----------+-------------------------------------------------------------+\n",
      "|0.0  |0.0       |[0.8807610061583768,0.10524041366267523,0.013998580178948044]|\n",
      "|0.0  |0.0       |[0.7458979141346158,0.24265222733673517,0.011449858528649048]|\n",
      "|0.0  |0.0       |[0.8591533513969193,0.12818187346429988,0.012664775138780763]|\n",
      "|0.0  |0.0       |[0.889272210654165,0.10242995593093472,0.008297833414900311] |\n",
      "|0.0  |0.0       |[0.7823342496584101,0.21143943898316905,0.006226311358420819]|\n",
      "+-----+----------+-------------------------------------------------------------+\n",
      "only showing top 5 rows\n",
      "\n"
     ]
    }
   ],
   "source": [
    "from pyspark.ml.classification import LogisticRegression\n",
    "\n",
    "lr = LogisticRegression(featuresCol=\"features\", labelCol=\"label\", maxIter=10)\n",
    "lr_model = lr.fit(final_df)\n",
    "\n",
    "# 예측\n",
    "predictions = lr_model.transform(final_df)\n",
    "predictions.select(\"label\", \"prediction\", \"probability\").show(5, truncate=False)\n"
   ]
  },
  {
   "cell_type": "code",
   "execution_count": 39,
   "id": "bcdbb0db-8060-47fd-881e-813fc2268f31",
   "metadata": {},
   "outputs": [
    {
     "name": "stdout",
     "output_type": "stream",
     "text": [
      "정확도: 0.8580\n",
      "F1 Score: 0.7944\n",
      "정밀도: 0.8018\n",
      "재현율: 0.8580\n"
     ]
    }
   ],
   "source": [
    "# 정확도, 정밀도, 재현율, F1-score\n",
    "\n",
    "from pyspark.ml.evaluation import MulticlassClassificationEvaluator\n",
    "\n",
    "evaluator = MulticlassClassificationEvaluator(labelCol=\"label\", predictionCol=\"prediction\")\n",
    "\n",
    "accuracy = evaluator.evaluate(predictions, {evaluator.metricName: \"accuracy\"})\n",
    "f1 = evaluator.evaluate(predictions, {evaluator.metricName: \"f1\"})\n",
    "precision = evaluator.evaluate(predictions, {evaluator.metricName: \"weightedPrecision\"})\n",
    "recall = evaluator.evaluate(predictions, {evaluator.metricName: \"weightedRecall\"})\n",
    "\n",
    "print(f\"정확도: {accuracy:.4f}\")\n",
    "print(f\"F1 Score: {f1:.4f}\")\n",
    "print(f\"정밀도: {precision:.4f}\")\n",
    "print(f\"재현율: {recall:.4f}\")\n"
   ]
  },
  {
   "cell_type": "code",
   "execution_count": 40,
   "id": "53abf34b-6c15-470b-b6ae-0ae916458e79",
   "metadata": {},
   "outputs": [
    {
     "name": "stdout",
     "output_type": "stream",
     "text": [
      "+-----+----------+-------+\n",
      "|label|prediction|  count|\n",
      "+-----+----------+-------+\n",
      "|  0.0|       0.0|1763762|\n",
      "|  0.0|       1.0|   1875|\n",
      "|  0.0|       2.0|     13|\n",
      "|  1.0|       0.0| 263121|\n",
      "|  1.0|       1.0|   2298|\n",
      "|  1.0|       2.0|      7|\n",
      "|  2.0|       0.0|  26867|\n",
      "|  2.0|       1.0|    463|\n",
      "|  2.0|       2.0|      2|\n",
      "+-----+----------+-------+\n",
      "\n"
     ]
    }
   ],
   "source": [
    "# 혼동행렬\n",
    "predictions.groupBy(\"label\", \"prediction\").count().orderBy(\"label\", \"prediction\").show()"
   ]
  },
  {
   "cell_type": "markdown",
   "id": "350e1825-65ce-4b77-9cea-8925c59dc06d",
   "metadata": {},
   "source": [
    "## 해석\n",
    "- Slight(0.0): 85% 이상   \n",
    "- Serious(1.0) + Fatal(2.0): 15% 이하   \n",
    "- 1.0 / 2.0 분류가 거의 안 됨\n",
    "\n",
    "## 결론\n",
    "- 모델이 거의 다 Slight (0.0)로만 예측함   \n",
    "- 불균형 문제가 심각함   \n",
    "- Serious와 Fatal은 거의 전혀 분류되지 않음   \n",
    "\n",
    "→ 이 상태로는 정책/의사결정용 분석에 위험\n",
    "\n",
    "## 다음 액션\n",
    "- Slight vs Serious+Fatal 이진 분류\n",
    "- `label_binary = 0 if label == 0.0 else 1`   \n",
    "- 0: Slight (안전) / 1: Serious or Fatal (심각 사고)   \n"
   ]
  },
  {
   "cell_type": "code",
   "execution_count": 41,
   "id": "7afdf87d-f5fe-4111-b569-96535ffe4d2f",
   "metadata": {},
   "outputs": [],
   "source": [
    "spark.stop()"
   ]
  },
  {
   "cell_type": "code",
   "execution_count": null,
   "id": "5eda17fe-67c2-4c19-ba29-7e487bf37bba",
   "metadata": {},
   "outputs": [],
   "source": []
  },
  {
   "cell_type": "code",
   "execution_count": null,
   "id": "4be5c86d-9074-4e78-a9cb-d9be3a2a2e65",
   "metadata": {},
   "outputs": [],
   "source": []
  },
  {
   "cell_type": "code",
   "execution_count": null,
   "id": "89f6a940-178a-4e09-9668-9e3231f7b3ff",
   "metadata": {},
   "outputs": [],
   "source": []
  },
  {
   "cell_type": "code",
   "execution_count": null,
   "id": "20efd5d3-b1ea-4b46-9b64-5dee6e90a403",
   "metadata": {},
   "outputs": [],
   "source": []
  },
  {
   "cell_type": "code",
   "execution_count": null,
   "id": "d40c3b5b-72bc-4b2c-a66c-39b2869c876d",
   "metadata": {},
   "outputs": [],
   "source": []
  },
  {
   "cell_type": "code",
   "execution_count": null,
   "id": "2e10c8a3-1f4a-4109-91c6-50d422b241e5",
   "metadata": {},
   "outputs": [],
   "source": []
  },
  {
   "cell_type": "code",
   "execution_count": null,
   "id": "2f30c269-a150-49f9-ac27-3c0374aa9947",
   "metadata": {},
   "outputs": [],
   "source": []
  },
  {
   "cell_type": "code",
   "execution_count": null,
   "id": "949c9be3-296f-40f6-af34-5a66f68b9117",
   "metadata": {},
   "outputs": [],
   "source": []
  },
  {
   "cell_type": "code",
   "execution_count": null,
   "id": "9dba7741-0b16-4c04-a595-3d149a545a1d",
   "metadata": {},
   "outputs": [],
   "source": []
  },
  {
   "cell_type": "code",
   "execution_count": null,
   "id": "016db43d-504c-4e73-aef0-b2f00c30cb9a",
   "metadata": {},
   "outputs": [],
   "source": []
  },
  {
   "cell_type": "code",
   "execution_count": null,
   "id": "463d4a41-0041-4129-bff4-302326c7316f",
   "metadata": {},
   "outputs": [],
   "source": []
  },
  {
   "cell_type": "code",
   "execution_count": null,
   "id": "1ccb9408-f4e3-4c9c-8895-69371a3a0e21",
   "metadata": {},
   "outputs": [],
   "source": []
  },
  {
   "cell_type": "code",
   "execution_count": null,
   "id": "b8fe745f-1e76-495d-b1f7-61fc7f5227eb",
   "metadata": {},
   "outputs": [],
   "source": []
  },
  {
   "cell_type": "code",
   "execution_count": null,
   "id": "de8cdc06-4af1-4b46-8c6e-24da126deaee",
   "metadata": {},
   "outputs": [],
   "source": []
  },
  {
   "cell_type": "code",
   "execution_count": null,
   "id": "a22bd4d7-fa87-4539-a0b7-ed3016981908",
   "metadata": {},
   "outputs": [],
   "source": []
  },
  {
   "cell_type": "code",
   "execution_count": null,
   "id": "5ce9a1d6-be17-4d82-93b8-9be551084dfc",
   "metadata": {},
   "outputs": [],
   "source": []
  },
  {
   "cell_type": "code",
   "execution_count": null,
   "id": "0fecbd13-e871-4540-9e19-453ec4dfd0ed",
   "metadata": {},
   "outputs": [],
   "source": []
  },
  {
   "cell_type": "code",
   "execution_count": null,
   "id": "fc374461-e6aa-40a1-8ed1-e9ba541c6a2e",
   "metadata": {},
   "outputs": [],
   "source": []
  },
  {
   "cell_type": "code",
   "execution_count": null,
   "id": "fe682b08-e636-45ac-8a6a-01f756fb0704",
   "metadata": {},
   "outputs": [],
   "source": []
  },
  {
   "cell_type": "code",
   "execution_count": null,
   "id": "4c4907d1-c7e0-4223-8635-6944884f8f60",
   "metadata": {},
   "outputs": [],
   "source": []
  },
  {
   "cell_type": "code",
   "execution_count": null,
   "id": "7e28c14c-0a60-4222-81fe-a0220a83b994",
   "metadata": {},
   "outputs": [],
   "source": []
  },
  {
   "cell_type": "code",
   "execution_count": null,
   "id": "3ddd1192-2616-4a70-a89f-cf3ee7bfaa39",
   "metadata": {},
   "outputs": [],
   "source": []
  },
  {
   "cell_type": "code",
   "execution_count": null,
   "id": "5af01f55-d341-45f3-8662-b3f5c70b7760",
   "metadata": {},
   "outputs": [],
   "source": []
  },
  {
   "cell_type": "code",
   "execution_count": null,
   "id": "b6279981-b50d-4850-b984-71f3760ab613",
   "metadata": {},
   "outputs": [],
   "source": []
  },
  {
   "cell_type": "code",
   "execution_count": null,
   "id": "3e146e4d-7d0c-4d39-a2fd-fa2017fbcc6f",
   "metadata": {},
   "outputs": [],
   "source": []
  },
  {
   "cell_type": "code",
   "execution_count": null,
   "id": "294f688a-a1b1-45d2-99c2-a99460284438",
   "metadata": {},
   "outputs": [],
   "source": []
  },
  {
   "cell_type": "code",
   "execution_count": null,
   "id": "c87a6dd2-f85a-417a-9593-ab524e0a6cc1",
   "metadata": {},
   "outputs": [],
   "source": []
  },
  {
   "cell_type": "code",
   "execution_count": null,
   "id": "29705421-6a30-42f3-b941-3e3686182548",
   "metadata": {},
   "outputs": [],
   "source": []
  },
  {
   "cell_type": "code",
   "execution_count": null,
   "id": "58169345-dbc7-4d47-a0df-e56c975116e8",
   "metadata": {},
   "outputs": [],
   "source": []
  },
  {
   "cell_type": "code",
   "execution_count": null,
   "id": "cbc2d796-31ae-4fbe-8da7-2fb5e7ee9d3c",
   "metadata": {},
   "outputs": [],
   "source": []
  },
  {
   "cell_type": "code",
   "execution_count": null,
   "id": "bad9d873-cf46-48ef-ac51-83cfa2d2632f",
   "metadata": {},
   "outputs": [],
   "source": []
  },
  {
   "cell_type": "code",
   "execution_count": null,
   "id": "56e2448e-6b44-425d-acff-b4e46a287db7",
   "metadata": {},
   "outputs": [],
   "source": []
  },
  {
   "cell_type": "code",
   "execution_count": null,
   "id": "e8c09cbe-519c-493e-b64b-7fb6690f90a8",
   "metadata": {},
   "outputs": [],
   "source": []
  },
  {
   "cell_type": "code",
   "execution_count": null,
   "id": "e4b7ad34-8b2a-43f6-a8a7-8a630b9d032b",
   "metadata": {},
   "outputs": [],
   "source": []
  },
  {
   "cell_type": "code",
   "execution_count": null,
   "id": "09ae4bc9-404a-4a2a-9785-fcf8740ab03f",
   "metadata": {},
   "outputs": [],
   "source": []
  },
  {
   "cell_type": "code",
   "execution_count": null,
   "id": "8c96f29e-015a-4aa0-80ce-3caf6d828fae",
   "metadata": {},
   "outputs": [],
   "source": []
  },
  {
   "cell_type": "code",
   "execution_count": null,
   "id": "b511ffaa-8c81-4bcf-b981-a5dd9a544da9",
   "metadata": {},
   "outputs": [],
   "source": []
  },
  {
   "cell_type": "code",
   "execution_count": null,
   "id": "b1a27075-df16-45f7-8f4a-95f970a61ecb",
   "metadata": {},
   "outputs": [],
   "source": []
  },
  {
   "cell_type": "code",
   "execution_count": null,
   "id": "ce9d8487-6e16-4b16-9ec2-6b1274cc41ee",
   "metadata": {},
   "outputs": [],
   "source": []
  },
  {
   "cell_type": "code",
   "execution_count": null,
   "id": "9215c40d-1774-448a-bee1-bdcc275c185e",
   "metadata": {},
   "outputs": [],
   "source": []
  },
  {
   "cell_type": "code",
   "execution_count": null,
   "id": "a794d839-c5ea-410f-89ca-c7b8f0c4418d",
   "metadata": {},
   "outputs": [],
   "source": []
  },
  {
   "cell_type": "code",
   "execution_count": null,
   "id": "4eea078b-f6a6-45f8-a4bd-b6ff75f2283d",
   "metadata": {},
   "outputs": [],
   "source": []
  },
  {
   "cell_type": "code",
   "execution_count": null,
   "id": "de814469-7e0d-456d-966d-26d7e53685d7",
   "metadata": {},
   "outputs": [],
   "source": []
  },
  {
   "cell_type": "code",
   "execution_count": null,
   "id": "a903c723-da69-4494-8620-1a9f67c055dc",
   "metadata": {},
   "outputs": [],
   "source": []
  },
  {
   "cell_type": "code",
   "execution_count": null,
   "id": "794b6702-f87e-428a-81ce-2ce2f2922e84",
   "metadata": {},
   "outputs": [],
   "source": []
  },
  {
   "cell_type": "code",
   "execution_count": null,
   "id": "00062ae7-c7e5-48a8-82a8-6b7471d2ac7f",
   "metadata": {},
   "outputs": [],
   "source": []
  },
  {
   "cell_type": "code",
   "execution_count": null,
   "id": "ff396b1a-7747-49c7-a9f2-916558f6fa74",
   "metadata": {},
   "outputs": [],
   "source": []
  },
  {
   "cell_type": "code",
   "execution_count": null,
   "id": "f8172507-ac4d-421f-a5f9-8f05773d1d54",
   "metadata": {},
   "outputs": [],
   "source": []
  },
  {
   "cell_type": "code",
   "execution_count": null,
   "id": "2d9de3c8-6812-4f6f-a030-f79fea494c5e",
   "metadata": {},
   "outputs": [],
   "source": []
  },
  {
   "cell_type": "code",
   "execution_count": null,
   "id": "c522643a-26c6-4b87-ad51-97448666cdac",
   "metadata": {},
   "outputs": [],
   "source": []
  },
  {
   "cell_type": "code",
   "execution_count": null,
   "id": "a1bbbaf0-ad71-4c50-bd46-f0f0308aca83",
   "metadata": {},
   "outputs": [],
   "source": []
  },
  {
   "cell_type": "code",
   "execution_count": null,
   "id": "a8c1fb2e-6a6d-4559-ade7-e9510999c256",
   "metadata": {},
   "outputs": [],
   "source": []
  },
  {
   "cell_type": "code",
   "execution_count": null,
   "id": "fb7709f0-1ab2-486e-a167-f08eb4e07854",
   "metadata": {},
   "outputs": [],
   "source": []
  },
  {
   "cell_type": "code",
   "execution_count": null,
   "id": "075e9477-f08a-4758-8464-ff491b9c1895",
   "metadata": {},
   "outputs": [],
   "source": []
  },
  {
   "cell_type": "code",
   "execution_count": null,
   "id": "3d47339b-ee43-4491-a09a-0cddbfcf0d3d",
   "metadata": {},
   "outputs": [],
   "source": []
  },
  {
   "cell_type": "code",
   "execution_count": null,
   "id": "9424c209-7827-4877-967f-abda32ac332a",
   "metadata": {},
   "outputs": [],
   "source": []
  },
  {
   "cell_type": "code",
   "execution_count": null,
   "id": "a9f4002d-65b4-49ad-b960-a2dd29b62d13",
   "metadata": {},
   "outputs": [],
   "source": []
  },
  {
   "cell_type": "code",
   "execution_count": null,
   "id": "4ccac2c6-9e5f-480a-abc2-c83b7800d544",
   "metadata": {},
   "outputs": [],
   "source": []
  },
  {
   "cell_type": "code",
   "execution_count": null,
   "id": "ace51933-9b91-473c-9e81-50228de44b1c",
   "metadata": {},
   "outputs": [],
   "source": []
  },
  {
   "cell_type": "code",
   "execution_count": null,
   "id": "053adc83-1b3d-421b-ad65-5718f40efc7b",
   "metadata": {},
   "outputs": [],
   "source": []
  },
  {
   "cell_type": "code",
   "execution_count": null,
   "id": "00658591-86a3-4460-a3c0-178c76d2453b",
   "metadata": {},
   "outputs": [],
   "source": []
  }
 ],
 "metadata": {
  "kernelspec": {
   "display_name": "Python 3 (ipykernel)",
   "language": "python",
   "name": "python3"
  },
  "language_info": {
   "codemirror_mode": {
    "name": "ipython",
    "version": 3
   },
   "file_extension": ".py",
   "mimetype": "text/x-python",
   "name": "python",
   "nbconvert_exporter": "python",
   "pygments_lexer": "ipython3",
   "version": "3.11.6"
  }
 },
 "nbformat": 4,
 "nbformat_minor": 5
}
