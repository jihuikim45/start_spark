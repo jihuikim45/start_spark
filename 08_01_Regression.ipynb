{
 "cells": [
  {
   "cell_type": "code",
   "execution_count": null,
   "id": "f647e857-bc94-4ea0-8fe0-4fc6a1414bdb",
   "metadata": {},
   "outputs": [],
   "source": [
    "# 08_Regression_1.ipynb"
   ]
  },
  {
   "cell_type": "code",
   "execution_count": 1,
   "id": "7fce39a8-c8a1-4539-808f-e71b20164bcc",
   "metadata": {},
   "outputs": [],
   "source": [
    "from pyspark.sql import SparkSession\n",
    "spark = SparkSession.builder.appName(\"taxi-fare-predicition\").getOrCreate()"
   ]
  },
  {
   "cell_type": "code",
   "execution_count": 2,
   "id": "3b121e06-3eb8-4ba6-b331-05df12a3f083",
   "metadata": {},
   "outputs": [
    {
     "data": {
      "text/plain": [
       "'/home/jovyan/work/learning_spark_data/trips/*.csv'"
      ]
     },
     "execution_count": 2,
     "metadata": {},
     "output_type": "execute_result"
    }
   ],
   "source": [
    "import os\n",
    "cwd = os.getcwd()\n",
    "trip_data_path = os.path.join(cwd, 'learning_spark_data', 'trips', '*.csv')\n",
    "trip_data_path"
   ]
  },
  {
   "cell_type": "code",
   "execution_count": 4,
   "id": "fe752f35-9517-42d4-86dc-a324296b3168",
   "metadata": {},
   "outputs": [
    {
     "data": {
      "text/plain": [
       "'file:////home/jovyan/work/learning_spark_data/trips/*.csv'"
      ]
     },
     "execution_count": 4,
     "metadata": {},
     "output_type": "execute_result"
    }
   ],
   "source": [
    "file_path = f\"file:///{trip_data_path.replace(os.sep,'/')}\"\n",
    "file_path"
   ]
  },
  {
   "cell_type": "code",
   "execution_count": null,
   "id": "b98e1e97-7b9d-4f56-8538-1a634c4d7384",
   "metadata": {},
   "outputs": [],
   "source": [
    "trip_df = spark.read.csv(file_path, inferSchema=True, header=True)\n",
    "trip_df.printSchema()"
   ]
  },
  {
   "cell_type": "code",
   "execution_count": null,
   "id": "0d6a5149-3ab1-4ad2-9944-d0b325c9172f",
   "metadata": {},
   "outputs": [],
   "source": [
    "# 운행거리에 따른 요금 예측"
   ]
  },
  {
   "cell_type": "code",
   "execution_count": 8,
   "id": "b43f4343-2e15-4ef7-a9c3-37cbafa96099",
   "metadata": {},
   "outputs": [],
   "source": [
    "trip_df.createOrReplaceTempView('trips')"
   ]
  },
  {
   "cell_type": "code",
   "execution_count": 9,
   "id": "cf970979-c982-4536-9fa4-86302680e24c",
   "metadata": {},
   "outputs": [],
   "source": [
    "query = \"\"\"\n",
    "SELECT\n",
    "    trip_distance,\n",
    "    total_amount\n",
    "FROM trips\n",
    "\n",
    "WHERE total_amount < 5000\n",
    "  AND total_amount > 0\n",
    "  AND trip_distance > 0\n",
    "  AND trip_distance < 500\n",
    "  AND passenger_count < 4\n",
    "  AND TO_DATE(tpep_pickup_datetime) >= \"2021-01-01\"\n",
    "  AND TO_DATE(tpep_pickup_datetime) < \"2021-08-01\"\n",
    "\"\"\""
   ]
  },
  {
   "cell_type": "code",
   "execution_count": 10,
   "id": "273977e5-96d8-4c81-975f-af0860bff5fc",
   "metadata": {},
   "outputs": [],
   "source": [
    "trip_df = spark.sql(query)\n",
    "trip_df.createOrReplaceTempView('data')"
   ]
  },
  {
   "cell_type": "code",
   "execution_count": 13,
   "id": "9168240b-9ba7-4d37-9299-a98837255df3",
   "metadata": {},
   "outputs": [
    {
     "name": "stdout",
     "output_type": "stream",
     "text": [
      "+-------------+------------+\n",
      "|trip_distance|total_amount|\n",
      "+-------------+------------+\n",
      "|         16.5|       70.07|\n",
      "|         1.13|       11.16|\n",
      "|         2.68|       18.59|\n",
      "+-------------+------------+\n",
      "only showing top 3 rows\n",
      "\n"
     ]
    }
   ],
   "source": [
    "# data table 결과 확인\n",
    "spark.sql('select * from data limit 5').show(3)"
   ]
  },
  {
   "cell_type": "code",
   "execution_count": 17,
   "id": "e16c3d94-6b2e-47f5-abdd-82b41386e0bb",
   "metadata": {},
   "outputs": [],
   "source": [
    "# train, test split 8:2, seed =1\n",
    "train_data, test_data = trip_df.randomSplit([0.8,0.2], seed=1)"
   ]
  },
  {
   "cell_type": "code",
   "execution_count": 19,
   "id": "36c5cc9b-217d-4186-9190-183a3d3eb956",
   "metadata": {},
   "outputs": [
    {
     "name": "stdout",
     "output_type": "stream",
     "text": [
      "+--------+------------+\n",
      "|features|total_amount|\n",
      "+--------+------------+\n",
      "|  [0.01]|        3.05|\n",
      "|  [0.01]|         3.3|\n",
      "|  [0.01]|         3.3|\n",
      "|  [0.01]|         3.3|\n",
      "|  [0.01]|         3.3|\n",
      "+--------+------------+\n",
      "only showing top 5 rows\n",
      "\n"
     ]
    }
   ],
   "source": [
    "# vectorassembler > feature : trip_distance, target: total_amount\n",
    "from pyspark.ml.feature import VectorAssembler\n",
    "vassembler = VectorAssembler(inputCols=['trip_distance'], outputCol='features')\n",
    "vtrain_df = vassembler.transform(train_data)\n",
    "vtrain_df.select('features', 'total_amount').show(5)"
   ]
  },
  {
   "cell_type": "code",
   "execution_count": 22,
   "id": "7ab1b2e1-d855-4e26-9c57-04df87a5a06a",
   "metadata": {},
   "outputs": [],
   "source": [
    "# LinearRegression 생성 maxIter=50, LabelCol='total_amount', featuresCol='features'\n",
    "# fit\n",
    "from pyspark.ml.regression import LinearRegression\n",
    "lr = LinearRegression(maxIter=50, labelCol='total_amount', featuresCol='features')\n",
    "lr_model = lr.fit(vtrain_df) #천만건데이터 학습\n",
    "\n",
    "# vassembler, transform (test)\n",
    "# model.transform()\n",
    "vtest_df = vassembler.transform(test_data)\n",
    "pred = lr_model.transform(vtest_df) #2백만건데이터 예측"
   ]
  },
  {
   "cell_type": "code",
   "execution_count": 23,
   "id": "9d457a35-ce64-468d-b934-46edf89049d2",
   "metadata": {},
   "outputs": [
    {
     "name": "stdout",
     "output_type": "stream",
     "text": [
      "+-------------+------------+--------+-----------------+\n",
      "|trip_distance|total_amount|features|       prediction|\n",
      "+-------------+------------+--------+-----------------+\n",
      "|         0.01|         3.3|  [0.01]|9.430440745312902|\n",
      "|         0.01|         3.3|  [0.01]|9.430440745312902|\n",
      "|         0.01|         3.3|  [0.01]|9.430440745312902|\n",
      "|         0.01|         3.3|  [0.01]|9.430440745312902|\n",
      "|         0.01|         3.3|  [0.01]|9.430440745312902|\n",
      "+-------------+------------+--------+-----------------+\n",
      "only showing top 5 rows\n",
      "\n"
     ]
    }
   ],
   "source": [
    "pred.show(5)"
   ]
  },
  {
   "cell_type": "code",
   "execution_count": 24,
   "id": "6fdbec5d-791d-4e30-b154-4d52a9d3db45",
   "metadata": {},
   "outputs": [
    {
     "data": {
      "text/plain": [
       "6.30781413196623"
      ]
     },
     "execution_count": 24,
     "metadata": {},
     "output_type": "execute_result"
    }
   ],
   "source": [
    "lr_model.summary.rootMeanSquaredError #RMSE"
   ]
  },
  {
   "cell_type": "code",
   "execution_count": 25,
   "id": "74e8c728-f3e9-475f-8fe1-85b869e15b9d",
   "metadata": {},
   "outputs": [
    {
     "data": {
      "text/plain": [
       "0.7648633777017714"
      ]
     },
     "execution_count": 25,
     "metadata": {},
     "output_type": "execute_result"
    }
   ],
   "source": [
    "lr_model.summary.r2"
   ]
  },
  {
   "cell_type": "code",
   "execution_count": null,
   "id": "fbc4b852-8ee5-4519-8a70-e23e9798b7c2",
   "metadata": {},
   "outputs": [],
   "source": [
    "# 새로운 데이터로 예측하기"
   ]
  },
  {
   "cell_type": "code",
   "execution_count": 29,
   "id": "c9a1ed51-9412-4540-a0cc-79d88899cf88",
   "metadata": {},
   "outputs": [
    {
     "name": "stdout",
     "output_type": "stream",
     "text": [
      "+-------------+\n",
      "|trip_distance|\n",
      "+-------------+\n",
      "|          1.1|\n",
      "|          5.4|\n",
      "|         10.2|\n",
      "|         30.0|\n",
      "+-------------+\n",
      "\n"
     ]
    }
   ],
   "source": [
    "from pyspark.sql.types import DoubleType\n",
    "\n",
    "new_distance_list = [1.1, 5.4, 10.2, 30.0]\n",
    "distance_df = spark.createDataFrame(new_distance_list, DoubleType()).toDF('trip_distance')\n",
    "distance_df.show()"
   ]
  },
  {
   "cell_type": "code",
   "execution_count": 30,
   "id": "c446d693-cfb2-41ff-8163-e3ca4a1eeeb2",
   "metadata": {},
   "outputs": [
    {
     "name": "stdout",
     "output_type": "stream",
     "text": [
      "+-------------+--------+------------------+\n",
      "|trip_distance|features|        prediction|\n",
      "+-------------+--------+------------------+\n",
      "|          1.1|   [1.1]|12.672809485363317|\n",
      "|          5.4|   [5.4]|25.463805432351194|\n",
      "|         10.2|  [10.2]| 39.74212648945393|\n",
      "|         30.0|  [30.0]| 98.64020085000274|\n",
      "+-------------+--------+------------------+\n",
      "\n"
     ]
    }
   ],
   "source": [
    "vdistance_df = vassembler.transform(distance_df)\n",
    "lr_model.transform(vdistance_df).show()"
   ]
  },
  {
   "cell_type": "code",
   "execution_count": 31,
   "id": "f5de50ec-f1ab-45e1-b3bc-66cda239011d",
   "metadata": {},
   "outputs": [],
   "source": [
    "spark.stop()"
   ]
  },
  {
   "cell_type": "code",
   "execution_count": null,
   "id": "d294351e-bbe8-400b-ad1c-1a73e0da7e50",
   "metadata": {},
   "outputs": [],
   "source": []
  },
  {
   "cell_type": "code",
   "execution_count": null,
   "id": "af2bb921-2c48-4126-b4f4-7545f42784c2",
   "metadata": {},
   "outputs": [],
   "source": []
  },
  {
   "cell_type": "code",
   "execution_count": null,
   "id": "8619587d-a94c-4e4b-95bd-5b420b8232e9",
   "metadata": {},
   "outputs": [],
   "source": []
  },
  {
   "cell_type": "code",
   "execution_count": null,
   "id": "442aa984-aef7-4a16-82fa-6ec729a04d4a",
   "metadata": {},
   "outputs": [],
   "source": []
  },
  {
   "cell_type": "code",
   "execution_count": null,
   "id": "1c2b2276-f2d4-4309-b461-8db92f7e38ff",
   "metadata": {},
   "outputs": [],
   "source": []
  },
  {
   "cell_type": "code",
   "execution_count": null,
   "id": "12e63f85-8930-438b-b825-55bc22fb4dbb",
   "metadata": {},
   "outputs": [],
   "source": []
  },
  {
   "cell_type": "code",
   "execution_count": null,
   "id": "a0a48dc7-ad52-4dea-a62f-2d6342347f13",
   "metadata": {},
   "outputs": [],
   "source": []
  },
  {
   "cell_type": "code",
   "execution_count": null,
   "id": "a88f4adf-63fd-4cff-92a2-e60eb40295ff",
   "metadata": {},
   "outputs": [],
   "source": []
  },
  {
   "cell_type": "code",
   "execution_count": null,
   "id": "644e37a4-9c87-4250-92b0-649abce8cbc0",
   "metadata": {},
   "outputs": [],
   "source": []
  },
  {
   "cell_type": "code",
   "execution_count": null,
   "id": "1ecaf407-e535-4d93-a528-ef6541cf828b",
   "metadata": {},
   "outputs": [],
   "source": []
  },
  {
   "cell_type": "code",
   "execution_count": null,
   "id": "40ab0b77-b48d-4142-9739-a78020246770",
   "metadata": {},
   "outputs": [],
   "source": []
  },
  {
   "cell_type": "code",
   "execution_count": null,
   "id": "d417a2a4-1e07-4ec3-b501-68410387a2b4",
   "metadata": {},
   "outputs": [],
   "source": []
  },
  {
   "cell_type": "code",
   "execution_count": null,
   "id": "84237d1c-ca8d-4803-89a3-a32d8bfa56a3",
   "metadata": {},
   "outputs": [],
   "source": []
  },
  {
   "cell_type": "code",
   "execution_count": null,
   "id": "230baabb-cde9-4be5-af3d-fcd33b20762a",
   "metadata": {},
   "outputs": [],
   "source": []
  },
  {
   "cell_type": "code",
   "execution_count": null,
   "id": "bc390cac-393a-4281-b35b-d510242f89a3",
   "metadata": {},
   "outputs": [],
   "source": []
  },
  {
   "cell_type": "code",
   "execution_count": null,
   "id": "90184525-c052-4c8b-ae5d-c45c96dbbd1e",
   "metadata": {},
   "outputs": [],
   "source": []
  },
  {
   "cell_type": "code",
   "execution_count": null,
   "id": "f311233b-bba6-4f55-bcc5-b12f05e2319f",
   "metadata": {},
   "outputs": [],
   "source": []
  },
  {
   "cell_type": "code",
   "execution_count": null,
   "id": "5440834e-215b-4e12-89c4-ff33fba933d0",
   "metadata": {},
   "outputs": [],
   "source": []
  },
  {
   "cell_type": "code",
   "execution_count": null,
   "id": "f832de90-cc6f-4be9-bcdb-7ea8362baff1",
   "metadata": {},
   "outputs": [],
   "source": []
  },
  {
   "cell_type": "code",
   "execution_count": null,
   "id": "b380ce93-ff37-4b97-85e8-1ae2d6225086",
   "metadata": {},
   "outputs": [],
   "source": []
  },
  {
   "cell_type": "code",
   "execution_count": null,
   "id": "8edca6b6-ad58-40c6-bd1c-a4dc72b898ec",
   "metadata": {},
   "outputs": [],
   "source": []
  },
  {
   "cell_type": "code",
   "execution_count": null,
   "id": "4a32ee74-3b94-4b76-a3fa-153f8e0953b1",
   "metadata": {},
   "outputs": [],
   "source": []
  },
  {
   "cell_type": "code",
   "execution_count": null,
   "id": "85371060-4355-4475-873f-860e090745a9",
   "metadata": {},
   "outputs": [],
   "source": []
  },
  {
   "cell_type": "code",
   "execution_count": null,
   "id": "fc1d41e7-d3ee-4ba1-b4af-2ae9493fca48",
   "metadata": {},
   "outputs": [],
   "source": []
  },
  {
   "cell_type": "code",
   "execution_count": null,
   "id": "39420512-ea9f-406d-86e9-7f016840bfd5",
   "metadata": {},
   "outputs": [],
   "source": []
  },
  {
   "cell_type": "code",
   "execution_count": null,
   "id": "2e5b9f33-e6c9-4e6f-8552-d035bbef62c4",
   "metadata": {},
   "outputs": [],
   "source": []
  },
  {
   "cell_type": "code",
   "execution_count": null,
   "id": "1de78037-1217-4e26-934e-1970b37f2a51",
   "metadata": {},
   "outputs": [],
   "source": []
  },
  {
   "cell_type": "code",
   "execution_count": null,
   "id": "acd83bbf-4d07-4055-ae15-70cfdae76e6c",
   "metadata": {},
   "outputs": [],
   "source": []
  },
  {
   "cell_type": "code",
   "execution_count": null,
   "id": "67f7a6e8-4a07-4082-98f3-aadab7b6646f",
   "metadata": {},
   "outputs": [],
   "source": []
  },
  {
   "cell_type": "code",
   "execution_count": null,
   "id": "a6f76d4d-bd61-4428-8a0e-36cbd0d374d9",
   "metadata": {},
   "outputs": [],
   "source": []
  },
  {
   "cell_type": "code",
   "execution_count": null,
   "id": "65e314ae-cda8-47c9-8e8e-a518ece0e6b0",
   "metadata": {},
   "outputs": [],
   "source": []
  },
  {
   "cell_type": "code",
   "execution_count": null,
   "id": "f59e4b0a-7315-4509-b16d-0f8ed44af1e2",
   "metadata": {},
   "outputs": [],
   "source": []
  },
  {
   "cell_type": "code",
   "execution_count": null,
   "id": "97b8384b-1b0a-4a51-a560-f8d47a4eeb8b",
   "metadata": {},
   "outputs": [],
   "source": []
  },
  {
   "cell_type": "code",
   "execution_count": null,
   "id": "df6a30e0-d56b-4971-bf00-efef1f1489d9",
   "metadata": {},
   "outputs": [],
   "source": []
  },
  {
   "cell_type": "code",
   "execution_count": null,
   "id": "64de6329-ae30-4cfe-aedf-a02d391f5c38",
   "metadata": {},
   "outputs": [],
   "source": []
  },
  {
   "cell_type": "code",
   "execution_count": null,
   "id": "cec718e9-0f68-43fe-a43b-731a59d40369",
   "metadata": {},
   "outputs": [],
   "source": []
  },
  {
   "cell_type": "code",
   "execution_count": null,
   "id": "31ebad52-6d30-4b30-b711-0db2b9ce9db4",
   "metadata": {},
   "outputs": [],
   "source": []
  },
  {
   "cell_type": "code",
   "execution_count": null,
   "id": "94667993-4017-42d9-959b-4abd20bf5a0e",
   "metadata": {},
   "outputs": [],
   "source": []
  },
  {
   "cell_type": "code",
   "execution_count": null,
   "id": "0ca7a46d-5700-4d01-9a32-4327bae3ac64",
   "metadata": {},
   "outputs": [],
   "source": []
  },
  {
   "cell_type": "code",
   "execution_count": null,
   "id": "5265f5db-290d-4bf8-b43e-62edeaa4c5d2",
   "metadata": {},
   "outputs": [],
   "source": []
  }
 ],
 "metadata": {
  "kernelspec": {
   "display_name": "Python 3 (ipykernel)",
   "language": "python",
   "name": "python3"
  },
  "language_info": {
   "codemirror_mode": {
    "name": "ipython",
    "version": 3
   },
   "file_extension": ".py",
   "mimetype": "text/x-python",
   "name": "python",
   "nbconvert_exporter": "python",
   "pygments_lexer": "ipython3",
   "version": "3.11.6"
  }
 },
 "nbformat": 4,
 "nbformat_minor": 5
}
