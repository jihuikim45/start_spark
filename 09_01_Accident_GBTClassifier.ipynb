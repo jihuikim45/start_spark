{
 "cells": [
  {
   "cell_type": "code",
   "execution_count": 1,
   "id": "c2ee528e-14e1-4171-885e-7f7625f34af6",
   "metadata": {},
   "outputs": [],
   "source": [
    "# spark 세션 시작\n",
    "from pyspark.sql import SparkSession\n",
    "MAX_MEMORY = '8g'\n",
    "spark = SparkSession.builder.appName(\"accident-severity-prediction\")\\\n",
    "        .config('spark.driver.memory', MAX_MEMORY)\\\n",
    "        .config('spark.executor.memory', MAX_MEMORY)\\\n",
    "        .getOrCreate()"
   ]
  },
  {
   "cell_type": "code",
   "execution_count": 2,
   "id": "c0f97394-17d5-400f-bf77-fb6f0b5642f1",
   "metadata": {},
   "outputs": [
    {
     "name": "stdout",
     "output_type": "stream",
     "text": [
      "root\n",
      " |-- Accident_Index: string (nullable = true)\n",
      " |-- 1st_Road_Class: string (nullable = true)\n",
      " |-- 1st_Road_Number: string (nullable = true)\n",
      " |-- 2nd_Road_Class: string (nullable = true)\n",
      " |-- 2nd_Road_Number: string (nullable = true)\n",
      " |-- Accident_Severity: string (nullable = true)\n",
      " |-- Carriageway_Hazards: string (nullable = true)\n",
      " |-- Date: date (nullable = true)\n",
      " |-- Day_of_Week: string (nullable = true)\n",
      " |-- Did_Police_Officer_Attend_Scene_of_Accident: string (nullable = true)\n",
      " |-- Junction_Control: string (nullable = true)\n",
      " |-- Junction_Detail: string (nullable = true)\n",
      " |-- Latitude: string (nullable = true)\n",
      " |-- Light_Conditions: string (nullable = true)\n",
      " |-- Local_Authority_(District): string (nullable = true)\n",
      " |-- Local_Authority_(Highway): string (nullable = true)\n",
      " |-- Location_Easting_OSGR: string (nullable = true)\n",
      " |-- Location_Northing_OSGR: string (nullable = true)\n",
      " |-- Longitude: string (nullable = true)\n",
      " |-- LSOA_of_Accident_Location: string (nullable = true)\n",
      " |-- Number_of_Casualties: integer (nullable = true)\n",
      " |-- Number_of_Vehicles: integer (nullable = true)\n",
      " |-- Pedestrian_Crossing-Human_Control: string (nullable = true)\n",
      " |-- Pedestrian_Crossing-Physical_Facilities: string (nullable = true)\n",
      " |-- Police_Force: string (nullable = true)\n",
      " |-- Road_Surface_Conditions: string (nullable = true)\n",
      " |-- Road_Type: string (nullable = true)\n",
      " |-- Special_Conditions_at_Site: string (nullable = true)\n",
      " |-- Speed_limit: string (nullable = true)\n",
      " |-- Time: timestamp (nullable = true)\n",
      " |-- Urban_or_Rural_Area: string (nullable = true)\n",
      " |-- Weather_Conditions: string (nullable = true)\n",
      " |-- Year: integer (nullable = true)\n",
      " |-- InScotland: string (nullable = true)\n",
      "\n",
      "root\n",
      " |-- Accident_Index: string (nullable = true)\n",
      " |-- Age_Band_of_Driver: string (nullable = true)\n",
      " |-- Age_of_Vehicle: string (nullable = true)\n",
      " |-- Driver_Home_Area_Type: string (nullable = true)\n",
      " |-- Driver_IMD_Decile: string (nullable = true)\n",
      " |-- Engine_Capacity_.CC.: string (nullable = true)\n",
      " |-- Hit_Object_in_Carriageway: string (nullable = true)\n",
      " |-- Hit_Object_off_Carriageway: string (nullable = true)\n",
      " |-- Journey_Purpose_of_Driver: string (nullable = true)\n",
      " |-- Junction_Location: string (nullable = true)\n",
      " |-- make: string (nullable = true)\n",
      " |-- model: string (nullable = true)\n",
      " |-- Propulsion_Code: string (nullable = true)\n",
      " |-- Sex_of_Driver: string (nullable = true)\n",
      " |-- Skidding_and_Overturning: string (nullable = true)\n",
      " |-- Towing_and_Articulation: string (nullable = true)\n",
      " |-- Vehicle_Leaving_Carriageway: string (nullable = true)\n",
      " |-- Vehicle_Location.Restricted_Lane: string (nullable = true)\n",
      " |-- Vehicle_Manoeuvre: string (nullable = true)\n",
      " |-- Vehicle_Reference: integer (nullable = true)\n",
      " |-- Vehicle_Type: string (nullable = true)\n",
      " |-- Was_Vehicle_Left_Hand_Drive: string (nullable = true)\n",
      " |-- X1st_Point_of_Impact: string (nullable = true)\n",
      " |-- Year: integer (nullable = true)\n",
      "\n"
     ]
    },
    {
     "data": {
      "text/plain": [
       "(None, None)"
      ]
     },
     "execution_count": 2,
     "metadata": {},
     "output_type": "execute_result"
    }
   ],
   "source": [
    "# 데이터 불러오기\n",
    "import os\n",
    "cwd = os.getcwd()\n",
    "a_data_path = os.path.join(cwd, 'learning_spark_data', 'accident' , 'Accident_Information.csv')\n",
    "v_data_path = os.path.join(cwd, 'learning_spark_data', 'accident' , 'Vehicle_Information.csv')\n",
    "\n",
    "a_file_path = f\"file:///{a_data_path.replace(os.sep, '/')}\"\n",
    "v_file_path = f\"file:///{v_data_path.replace(os.sep, '/')}\"\n",
    "\n",
    "accident_df = spark.read.csv(a_file_path, inferSchema=True, header=True)\n",
    "vehicle_df = spark.read.csv(v_file_path, inferSchema=True, header=True)\n",
    "\n",
    "accident_df.printSchema(), vehicle_df.printSchema()"
   ]
  },
  {
   "cell_type": "code",
   "execution_count": 8,
   "id": "fafb7d99-c78f-4fb7-b0b5-09f28dc110ff",
   "metadata": {},
   "outputs": [],
   "source": [
    "# 컬럼명 통일\n",
    "vehicle_df = vehicle_df.withColumnRenamed(\"Engine_Capacity_.CC.\", \"Engine_Capacity\")"
   ]
  },
  {
   "cell_type": "code",
   "execution_count": 9,
   "id": "f06528f2-7b39-40cf-b50c-5bbb70455580",
   "metadata": {},
   "outputs": [],
   "source": [
    "# 필요한 컬럼 선택\n",
    "accident_cols = [\n",
    "    \"Accident_Index\", \"1st_Road_Class\", \"Date\", \"Time\", \"Day_of_Week\", \"Accident_Severity\",\n",
    "    \"Did_Police_Officer_Attend_Scene_of_Accident\", \"Road_Type\", \"Speed_limit\",\n",
    "    \"Urban_or_Rural_Area\", \"Light_Conditions\", \"Weather_Conditions\"\n",
    "]\n",
    "\n",
    "vehicle_cols = [\n",
    "    \"Accident_Index\", \"Age_Band_of_Driver\", \"Sex_of_Driver\", \"Vehicle_Type\",\n",
    "    \"Age_of_Vehicle\", \"Engine_Capacity\", \"Driver_Home_Area_Type\"\n",
    "]\n",
    "\n",
    "\n",
    "\n",
    "# 필요한 컬럼만 선택\n",
    "accident_df_sel = accident_df.select(*accident_cols)\n",
    "vehicle_df_sel = vehicle_df.select(*vehicle_cols)\n",
    "\n",
    "# inner 조인\n",
    "join_df = accident_df_sel.join(vehicle_df_sel, on=\"Accident_Index\", how=\"inner\")\n"
   ]
  },
  {
   "cell_type": "code",
   "execution_count": 10,
   "id": "37164ebf-c298-46aa-9391-932101302678",
   "metadata": {},
   "outputs": [],
   "source": [
    "# 수치형 컬럼으로 변환\n",
    "\n",
    "from pyspark.sql.functions import mean, col\n",
    "\n",
    "# 1. 수치형 컬럼 리스트 정의\n",
    "cols_to_cast = [\"Speed_limit\", \"Age_of_Vehicle\", \"Engine_Capacity\"]\n",
    "\n",
    "# 2. 수치형으로 변환 (cast)\n",
    "for c in cols_to_cast:\n",
    "    join_df = join_df.withColumn(c, col(c).cast(\"double\"))\n",
    "\n",
    "# 3. 평균값 계산\n",
    "mean_values = join_df.select([mean(c).alias(c) for c in cols_to_cast]).collect()[0].asDict()\n",
    "\n",
    "# 4. 평균값으로 결측치 대체\n",
    "join_df = join_df.na.fill(mean_values)\n",
    "\n",
    "# 5. 사고 심각도 이진 분류 라벨 생성\n",
    "from pyspark.sql.functions import when, col\n",
    "\n",
    "# 6. 'Fatal', 'Serious' → 위험(1), 'Slight' → 안전(0)\n",
    "join_df = join_df.withColumn(\n",
    "    \"label\",\n",
    "    when(col(\"Accident_Severity\").isin(\"Fatal\", \"Serious\"), 1).otherwise(0)\n",
    ")\n",
    "\n",
    "from pyspark.sql.functions import hour\n",
    "\n",
    "# 7. 시간대 파생 컬럼\n",
    "join_df = join_df.withColumn(\"Hour\", hour(\"Time\"))\n",
    "join_df = join_df.withColumn(\n",
    "    \"Time_Band\",\n",
    "    when((col(\"Hour\") >= 7) & (col(\"Hour\") < 10), \"Morning_Rush\")\n",
    "    .when((col(\"Hour\") >= 17) & (col(\"Hour\") < 20), \"Evening_Rush\")\n",
    "    .when((col(\"Hour\") >= 0) & (col(\"Hour\") < 6), \"Late_Night\")\n",
    "    .otherwise(\"Other\")\n",
    ")\n",
    "\n",
    "# 8. 조도 (Light_Conditions → Light_Simple)\n",
    "join_df = join_df.withColumn(\n",
    "    \"Light_Simple\",\n",
    "    when(col(\"Light_Conditions\").contains(\"Daylight\"), \"Day\").otherwise(\"Night\")\n",
    ")\n",
    "\n",
    "# 9. 날씨 (Weather_Conditions → Weather_Simple)\n",
    "join_df = join_df.withColumn(\n",
    "    \"Weather_Simple\",\n",
    "    when(col(\"Weather_Conditions\").contains(\"Fine\"), \"Clear\").otherwise(\"Bad\")\n",
    ")"
   ]
  },
  {
   "cell_type": "code",
   "execution_count": 11,
   "id": "8805e014-de5d-4502-b87c-0d9c3c9cb57d",
   "metadata": {},
   "outputs": [
    {
     "name": "stdout",
     "output_type": "stream",
     "text": [
      "root\n",
      " |-- Accident_Index: string (nullable = true)\n",
      " |-- 1st_Road_Class: string (nullable = true)\n",
      " |-- Date: date (nullable = true)\n",
      " |-- Time: timestamp (nullable = true)\n",
      " |-- Day_of_Week: string (nullable = true)\n",
      " |-- Accident_Severity: string (nullable = true)\n",
      " |-- Did_Police_Officer_Attend_Scene_of_Accident: string (nullable = true)\n",
      " |-- Road_Type: string (nullable = true)\n",
      " |-- Speed_limit: double (nullable = false)\n",
      " |-- Urban_or_Rural_Area: string (nullable = true)\n",
      " |-- Light_Conditions: string (nullable = true)\n",
      " |-- Weather_Conditions: string (nullable = true)\n",
      " |-- Age_Band_of_Driver: string (nullable = true)\n",
      " |-- Sex_of_Driver: string (nullable = true)\n",
      " |-- Vehicle_Type: string (nullable = true)\n",
      " |-- Age_of_Vehicle: double (nullable = false)\n",
      " |-- Engine_Capacity: double (nullable = false)\n",
      " |-- Driver_Home_Area_Type: string (nullable = true)\n",
      " |-- label: integer (nullable = false)\n",
      " |-- Hour: integer (nullable = true)\n",
      " |-- Time_Band: string (nullable = false)\n",
      " |-- Light_Simple: string (nullable = false)\n",
      " |-- Weather_Simple: string (nullable = false)\n",
      "\n"
     ]
    }
   ],
   "source": [
    "join_df.printSchema()"
   ]
  },
  {
   "cell_type": "code",
   "execution_count": 17,
   "id": "5d13878f-29cd-411c-b892-c94b2783d37f",
   "metadata": {},
   "outputs": [],
   "source": [
    "# 인코딩 대상 컬럼 정의\n",
    "\n",
    "# 범주형 컬럼 (StringIndexer + OneHotEncoder 대상)\n",
    "# \"Time_Band\", \"Light_Simple\", \"Weather_Simple\" 컬럼 추가\n",
    "\n",
    "cat_columns = [\n",
    "    \"1st_Road_Class\", \"Day_of_Week\", \"Did_Police_Officer_Attend_Scene_of_Accident\",\n",
    "    \"Road_Type\", \"Urban_or_Rural_Area\", \"Age_Band_of_Driver\", \"Sex_of_Driver\",\n",
    "    \"Vehicle_Type\", \"Driver_Home_Area_Type\",\n",
    "    \"Time_Band\", \"Light_Simple\", \"Weather_Simple\"\n",
    "]\n",
    "\n",
    "# 수치형 컬럼\n",
    "num_columns = [\"Speed_limit\", \"Age_of_Vehicle\", \"Engine_Capacity\"]"
   ]
  },
  {
   "cell_type": "code",
   "execution_count": 18,
   "id": "c7666db4-7d5f-4928-ab99-c86d991ac7fe",
   "metadata": {},
   "outputs": [],
   "source": [
    "# 타겟 라벨 인코딩\n",
    "\n",
    "from pyspark.ml.feature import StringIndexer, OneHotEncoder, VectorAssembler\n",
    "from pyspark.ml.classification import GBTClassifier\n",
    "from pyspark.ml import Pipeline\n",
    "\n",
    "# 인코더 구성\n",
    "indexers = [StringIndexer(inputCol=c, outputCol=c+\"_Index\") for c in cat_columns]\n",
    "encoders = [OneHotEncoder(inputCol=c+\"_Index\", outputCol=c+\"_Vec\") for c in cat_columns]\n",
    "\n",
    "# 피처 구성\n",
    "feature_columns = [c + \"_Vec\" for c in cat_columns] + [\"Speed_limit\", \"Age_of_Vehicle\", \"Engine_Capacity\"]\n",
    "assembler = VectorAssembler(inputCols=feature_columns, outputCol=\"features\")\n",
    "\n",
    "# 모델\n",
    "gbt = GBTClassifier(labelCol=\"label\", featuresCol=\"features\", maxIter=30)\n",
    "\n",
    "# 파이프라인\n",
    "pipeline = Pipeline(stages=indexers + encoders + [assembler, gbt])"
   ]
  },
  {
   "cell_type": "code",
   "execution_count": 20,
   "id": "55c159b3-0ca7-4efa-83ee-d12ce563dc72",
   "metadata": {},
   "outputs": [],
   "source": [
    "from pyspark.sql.functions import col\n",
    "\n",
    "# 1. 위험/안전 데이터 분리\n",
    "minor_df = join_df.filter(col(\"label\") == 1)  # 위험\n",
    "major_df = join_df.filter(col(\"label\") == 0)  # 안전\n",
    "\n",
    "# 2. 소수 클래스 수 만큼 다수 클래스 언더샘플링\n",
    "minor_count = minor_df.count()\n",
    "major_sample_df = major_df.sample(fraction=minor_count / major_df.count(), seed=42)\n",
    "\n",
    "# 3. 언더샘플링된 balanced_df 생성\n",
    "balanced_df = minor_df.union(major_sample_df)\n",
    "\n",
    "# 4. train/test 분리\n",
    "train_df, test_df = balanced_df.randomSplit([0.8, 0.2], seed=42)\n"
   ]
  },
  {
   "cell_type": "code",
   "execution_count": 21,
   "id": "54108cc6-18e4-4594-a5ee-b10eef271f50",
   "metadata": {},
   "outputs": [],
   "source": [
    "# 모델 학습\n",
    "\n",
    "model = pipeline.fit(train_df)\n",
    "predictions = model.transform(test_df)\n"
   ]
  },
  {
   "cell_type": "code",
   "execution_count": 22,
   "id": "051a0fd9-beae-4ef3-8db3-039b696d8a84",
   "metadata": {},
   "outputs": [
    {
     "name": "stdout",
     "output_type": "stream",
     "text": [
      "AUC: 0.674229418206051\n"
     ]
    }
   ],
   "source": [
    "# AUC 확인\n",
    "\n",
    "from pyspark.ml.evaluation import BinaryClassificationEvaluator\n",
    "\n",
    "evaluator = BinaryClassificationEvaluator(\n",
    "    labelCol=\"label\",\n",
    "    rawPredictionCol=\"probability\",  # GBTClassifier는 probability 컬럼 사용 가능\n",
    "    metricName=\"areaUnderROC\"\n",
    ")\n",
    "\n",
    "auc = evaluator.evaluate(predictions)\n",
    "print(\"AUC:\", auc)\n"
   ]
  },
  {
   "cell_type": "code",
   "execution_count": 23,
   "id": "0ab87455-11ad-4e4c-a490-5239d03122cb",
   "metadata": {},
   "outputs": [],
   "source": [
    "# threshold 조정\n",
    "\n",
    "from pyspark.sql.functions import udf\n",
    "from pyspark.sql.types import DoubleType\n",
    "\n",
    "def adjust_threshold(probability, threshold=0.2):\n",
    "    return float(probability[1] > threshold)\n",
    "\n",
    "adjust_threshold_udf = udf(lambda p: adjust_threshold(p, threshold=0.2), DoubleType())\n",
    "\n",
    "predictions = predictions.withColumn(\"adjusted_prediction\", adjust_threshold_udf(col(\"probability\")))\n"
   ]
  },
  {
   "cell_type": "code",
   "execution_count": 24,
   "id": "249ad39a-4bab-4970-a167-0ff44e62a4af",
   "metadata": {},
   "outputs": [
    {
     "name": "stdout",
     "output_type": "stream",
     "text": [
      "+-----+-------------------+-----+\n",
      "|label|adjusted_prediction|count|\n",
      "+-----+-------------------+-----+\n",
      "|    1|                0.0|  425|\n",
      "|    1|                1.0|58081|\n",
      "|    0|                0.0| 2268|\n",
      "|    0|                1.0|56380|\n",
      "+-----+-------------------+-----+\n",
      "\n"
     ]
    }
   ],
   "source": [
    "# 혼동행렬(Confusion Matrix)\n",
    "cm = predictions.groupBy(\"label\", \"adjusted_prediction\").count()\n",
    "cm.show()"
   ]
  },
  {
   "cell_type": "code",
   "execution_count": 25,
   "id": "ba56b802-e55b-47ca-b43f-791554c2f776",
   "metadata": {},
   "outputs": [
    {
     "name": "stdout",
     "output_type": "stream",
     "text": [
      "정밀도: 0.5074\n",
      "재현율: 0.9927\n",
      "F1-score: 0.6716\n"
     ]
    }
   ],
   "source": [
    "# 정밀도 / 재현율 / F1-score 수동 계산\n",
    "TP = 58081\n",
    "FP = 56380\n",
    "FN = 425\n",
    "TN = 2268\n",
    "\n",
    "# 평가지표 계산\n",
    "precision = TP / (TP + FP) if (TP + FP) != 0 else 0\n",
    "recall = TP / (TP + FN) if (TP + FN) != 0 else 0\n",
    "f1 = 2 * precision * recall / (precision + recall) if (precision + recall) != 0 else 0\n",
    "\n",
    "print(f\"정밀도: {precision:.4f}\")\n",
    "print(f\"재현율: {recall:.4f}\")\n",
    "print(f\"F1-score: {f1:.4f}\")"
   ]
  },
  {
   "cell_type": "code",
   "execution_count": null,
   "id": "74de4f13-c19f-441a-b57c-2e9401be1d39",
   "metadata": {},
   "outputs": [],
   "source": []
  },
  {
   "cell_type": "markdown",
   "id": "f6d29f58-8d5d-497d-8a1b-e1902653a0fb",
   "metadata": {},
   "source": [
    "# GBTClassifier 결과 해석\n",
    "AUC: 0.67 → 의미 있는 패턴은 잡지만, 강력하지는 않음\n",
    "\n",
    "## 혼동행렬\n",
    "\n",
    "\n",
    "  \r\n",
    "|label|adjusted_prediction|coun|||---|---|---|-+\r\n",
    "|    1|                0.0|25|  4    X False Negative: 위험인데 안전예측25|\r\n",
    "|    1|                1.081|0|58    O True Negative: 안전을 잘 맞081|\r\n",
    "|    0|                2268|0.0|     O True Positive: 위험을 잘 2268|\r\n",
    "|    0|               56380| 1.0|    X False Positive: 안전인데 위험예\n",
    "\n",
    "--   +(\r",
    "-  label=0  \n",
    "-    )- : label=1 (\n",
    "-  험일 확률) 모든 샘플의 p1이 0.`5 미만 → predict`ion  으0.0만 나옴)\n",
    "\n",
    "\n",
    "## 원인 가능성\n",
    "- 라벨 불균형 (0:1 비율     너무 차이남)\n",
    "- 임계값(threshold)     조정 안 됨\n",
    "- 모델이 너무 보수적 (risk 회피 성향)능   ve)\r\n"
   ]
  },
  {
   "cell_type": "code",
   "execution_count": 26,
   "id": "3133f533-9cad-4d80-a77c-8153c95e180b",
   "metadata": {},
   "outputs": [],
   "source": [
    "spark.stop()"
   ]
  },
  {
   "cell_type": "code",
   "execution_count": null,
   "id": "75eeb372-0a40-4d6c-9a82-92cd9ec479d0",
   "metadata": {},
   "outputs": [],
   "source": []
  },
  {
   "cell_type": "code",
   "execution_count": null,
   "id": "154cd8f6-ade1-4d3f-9135-18b72d7dc478",
   "metadata": {},
   "outputs": [],
   "source": []
  },
  {
   "cell_type": "code",
   "execution_count": null,
   "id": "56699359-0b67-42f8-aec8-a326600e0b16",
   "metadata": {},
   "outputs": [],
   "source": []
  },
  {
   "cell_type": "code",
   "execution_count": null,
   "id": "12139619-5d8e-43a9-b2d1-17d1de00a1b5",
   "metadata": {},
   "outputs": [],
   "source": []
  },
  {
   "cell_type": "code",
   "execution_count": null,
   "id": "dbda6176-4152-4a05-930f-1d05288e5b66",
   "metadata": {},
   "outputs": [],
   "source": []
  },
  {
   "cell_type": "code",
   "execution_count": null,
   "id": "f5f3fb4a-018e-4810-8ffd-3f2fe071b3b7",
   "metadata": {},
   "outputs": [],
   "source": []
  },
  {
   "cell_type": "code",
   "execution_count": null,
   "id": "5fff469d-75d8-4c93-b0f4-7f4589c94d08",
   "metadata": {},
   "outputs": [],
   "source": []
  },
  {
   "cell_type": "code",
   "execution_count": null,
   "id": "0837bf02-875e-4f71-8949-2191e73088de",
   "metadata": {},
   "outputs": [],
   "source": []
  },
  {
   "cell_type": "code",
   "execution_count": null,
   "id": "1b7f054b-f312-4c1d-a065-a79d9bf40831",
   "metadata": {},
   "outputs": [],
   "source": []
  },
  {
   "cell_type": "code",
   "execution_count": null,
   "id": "c1ce0e13-3009-4d71-9fa9-6bb09b507add",
   "metadata": {},
   "outputs": [],
   "source": []
  },
  {
   "cell_type": "code",
   "execution_count": null,
   "id": "3dfc312a-18a1-4686-a0b4-7bd95bdc205c",
   "metadata": {},
   "outputs": [],
   "source": []
  },
  {
   "cell_type": "code",
   "execution_count": null,
   "id": "ce46ef91-393a-4a68-8cbb-95035fc2aa59",
   "metadata": {},
   "outputs": [],
   "source": []
  },
  {
   "cell_type": "code",
   "execution_count": null,
   "id": "01889b02-acb4-4b67-9e02-fcec293d78e8",
   "metadata": {},
   "outputs": [],
   "source": []
  },
  {
   "cell_type": "code",
   "execution_count": null,
   "id": "fd151497-3b73-476e-9916-808f90c5d5ee",
   "metadata": {},
   "outputs": [],
   "source": []
  },
  {
   "cell_type": "code",
   "execution_count": null,
   "id": "9bf29e56-6cce-4132-8393-35b96e74b067",
   "metadata": {},
   "outputs": [],
   "source": []
  },
  {
   "cell_type": "code",
   "execution_count": null,
   "id": "61e99808-35c7-4a11-8107-13aa4e53ba78",
   "metadata": {},
   "outputs": [],
   "source": []
  },
  {
   "cell_type": "code",
   "execution_count": null,
   "id": "c1bfca95-60da-4c2d-91dc-c83282ec2c6b",
   "metadata": {},
   "outputs": [],
   "source": []
  },
  {
   "cell_type": "code",
   "execution_count": null,
   "id": "9ca81a6a-5010-41f6-9f50-e2d3064db75d",
   "metadata": {},
   "outputs": [],
   "source": []
  },
  {
   "cell_type": "code",
   "execution_count": null,
   "id": "9b8a2344-a7f2-4bb7-a78b-f840619b964c",
   "metadata": {},
   "outputs": [],
   "source": []
  },
  {
   "cell_type": "code",
   "execution_count": null,
   "id": "63b16453-8683-4b2a-9f0f-a38bfb317b5b",
   "metadata": {},
   "outputs": [],
   "source": []
  },
  {
   "cell_type": "code",
   "execution_count": null,
   "id": "510d44c2-d57e-42f0-b398-a2eb5898c827",
   "metadata": {},
   "outputs": [],
   "source": []
  },
  {
   "cell_type": "code",
   "execution_count": null,
   "id": "15afc764-926f-4bfa-bff9-a3a393d367bb",
   "metadata": {},
   "outputs": [],
   "source": []
  },
  {
   "cell_type": "code",
   "execution_count": null,
   "id": "1bfdda6a-92f4-43b5-a883-8b86a00832be",
   "metadata": {},
   "outputs": [],
   "source": []
  },
  {
   "cell_type": "code",
   "execution_count": null,
   "id": "6f6b0412-3219-443d-a271-a2b0745c7d54",
   "metadata": {},
   "outputs": [],
   "source": []
  },
  {
   "cell_type": "code",
   "execution_count": null,
   "id": "7cd75ed4-3a0c-4b0a-9190-55c18705d158",
   "metadata": {},
   "outputs": [],
   "source": []
  },
  {
   "cell_type": "code",
   "execution_count": null,
   "id": "41ec8e23-70e5-4a71-a871-645d051a67a3",
   "metadata": {},
   "outputs": [],
   "source": []
  },
  {
   "cell_type": "code",
   "execution_count": null,
   "id": "728f7e09-1507-4036-8980-e45ee5aa77e5",
   "metadata": {},
   "outputs": [],
   "source": []
  },
  {
   "cell_type": "code",
   "execution_count": null,
   "id": "bba53dd7-58ce-445b-be87-56e5a5fe680a",
   "metadata": {},
   "outputs": [],
   "source": []
  },
  {
   "cell_type": "code",
   "execution_count": null,
   "id": "b672f953-b638-4f8f-9f01-f3375e9fb45e",
   "metadata": {},
   "outputs": [],
   "source": []
  },
  {
   "cell_type": "code",
   "execution_count": null,
   "id": "30d7c340-b703-47b0-9b2e-d11b347361f9",
   "metadata": {},
   "outputs": [],
   "source": []
  }
 ],
 "metadata": {
  "kernelspec": {
   "display_name": "Python 3 (ipykernel)",
   "language": "python",
   "name": "python3"
  },
  "language_info": {
   "codemirror_mode": {
    "name": "ipython",
    "version": 3
   },
   "file_extension": ".py",
   "mimetype": "text/x-python",
   "name": "python",
   "nbconvert_exporter": "python",
   "pygments_lexer": "ipython3",
   "version": "3.11.6"
  }
 },
 "nbformat": 4,
 "nbformat_minor": 5
}
